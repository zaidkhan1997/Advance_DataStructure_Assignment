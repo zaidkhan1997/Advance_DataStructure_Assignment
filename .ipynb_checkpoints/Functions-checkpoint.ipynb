{
 "cells": [
  {
   "cell_type": "code",
   "execution_count": 12,
   "id": "9e114b90-3a3d-42e9-a059-466d1733b31f",
   "metadata": {},
   "outputs": [
    {
     "name": "stdout",
     "output_type": "stream",
     "text": [
      "hello world\n"
     ]
    }
   ],
   "source": [
    "print(\"hello world\")"
   ]
  },
  {
   "cell_type": "code",
   "execution_count": 14,
   "id": "c007b446-8e4c-4e70-9789-a0ab9d550930",
   "metadata": {},
   "outputs": [
    {
     "data": {
      "text/plain": [
       "8"
      ]
     },
     "execution_count": 14,
     "metadata": {},
     "output_type": "execute_result"
    }
   ],
   "source": [
    "len(\"pwskills\")"
   ]
  },
  {
   "cell_type": "code",
   "execution_count": 18,
   "id": "3be49186-f220-45e1-9567-73ecb0a2ebff",
   "metadata": {},
   "outputs": [
    {
     "data": {
      "text/plain": [
       "int"
      ]
     },
     "execution_count": 18,
     "metadata": {},
     "output_type": "execute_result"
    }
   ],
   "source": [
    "type(5)"
   ]
  },
  {
   "cell_type": "code",
   "execution_count": 20,
   "id": "7fb79adc-0ba4-4c4f-b257-2473e503fee7",
   "metadata": {},
   "outputs": [
    {
     "data": {
      "text/plain": [
       "float"
      ]
     },
     "execution_count": 20,
     "metadata": {},
     "output_type": "execute_result"
    }
   ],
   "source": [
    "type(6.8)"
   ]
  },
  {
   "cell_type": "code",
   "execution_count": 24,
   "id": "464d0b2b-83a4-442d-b4e5-0f4c9775fa7f",
   "metadata": {},
   "outputs": [],
   "source": [
    "import math as m"
   ]
  },
  {
   "cell_type": "code",
   "execution_count": 26,
   "id": "749e0902-7d15-41f1-9ac5-a1cba78adfc5",
   "metadata": {},
   "outputs": [
    {
     "data": {
      "text/plain": [
       "7"
      ]
     },
     "execution_count": 26,
     "metadata": {},
     "output_type": "execute_result"
    }
   ],
   "source": [
    "m.ceil(6.5)"
   ]
  },
  {
   "cell_type": "code",
   "execution_count": 28,
   "id": "d0b039ac-559b-410e-bd20-ac41810c095d",
   "metadata": {},
   "outputs": [
    {
     "data": {
      "text/plain": [
       "6"
      ]
     },
     "execution_count": 28,
     "metadata": {},
     "output_type": "execute_result"
    }
   ],
   "source": [
    "m.floor(6.5)"
   ]
  },
  {
   "cell_type": "code",
   "execution_count": 52,
   "id": "46520287-6e58-4d79-9d4f-4af21a05120c",
   "metadata": {},
   "outputs": [],
   "source": [
    "def greetings():\n",
    "    print(\"WELCOME TO THE SHOP\")"
   ]
  },
  {
   "cell_type": "code",
   "execution_count": 54,
   "id": "fab2b4db-bec6-4bfe-928f-51d130a5aa08",
   "metadata": {},
   "outputs": [
    {
     "name": "stdout",
     "output_type": "stream",
     "text": [
      "WELCOME TO THE SHOP\n"
     ]
    }
   ],
   "source": [
    "greeting()"
   ]
  },
  {
   "cell_type": "code",
   "execution_count": 56,
   "id": "26493b1e-4f30-4ffe-ba2d-6956053226d3",
   "metadata": {},
   "outputs": [
    {
     "name": "stdout",
     "output_type": "stream",
     "text": [
      "WELCOME TO THE SHOP\n"
     ]
    }
   ],
   "source": [
    "greeting()\n"
   ]
  },
  {
   "cell_type": "code",
   "execution_count": 24,
   "id": "4e7ce03a-c84e-468b-b0bc-438f82374776",
   "metadata": {},
   "outputs": [],
   "source": [
    "def greetings(name):\n",
    "    print(\"WELCOME TO THE  SHOP\",name)"
   ]
  },
  {
   "cell_type": "code",
   "execution_count": 26,
   "id": "5da9c72e-1b51-4279-93a1-b398c0a3f7c6",
   "metadata": {},
   "outputs": [
    {
     "name": "stdout",
     "output_type": "stream",
     "text": [
      "WELCOME TO THE  SHOP ZAID KHAN 7578\n"
     ]
    }
   ],
   "source": [
    "greetings(\"ZAID KHAN 7578\")"
   ]
  },
  {
   "cell_type": "code",
   "execution_count": 32,
   "id": "18a73528-e6fa-49b3-be05-9d111b81b9ae",
   "metadata": {},
   "outputs": [
    {
     "name": "stdout",
     "output_type": "stream",
     "text": [
      "WELCOME TO THE  SHOP \n"
     ]
    }
   ],
   "source": [
    "greetings(\"\")"
   ]
  },
  {
   "cell_type": "code",
   "execution_count": 42,
   "id": "29a8e50c-f04c-427a-8c9e-737f7a26a252",
   "metadata": {},
   "outputs": [
    {
     "name": "stdout",
     "output_type": "stream",
     "text": [
      "this is my first function\n"
     ]
    }
   ],
   "source": [
    "def func():\n",
    "    print(\"this is my first function\")\n",
    "func()"
   ]
  },
  {
   "cell_type": "code",
   "execution_count": 44,
   "id": "d7ff5881-01b2-4c0e-a685-e2b4ccb7ea40",
   "metadata": {},
   "outputs": [
    {
     "data": {
      "text/plain": [
       "'this is my first functionin python'"
      ]
     },
     "execution_count": 44,
     "metadata": {},
     "output_type": "execute_result"
    }
   ],
   "source": [
    "\"this is my first function\" + \"in python\""
   ]
  },
  {
   "cell_type": "code",
   "execution_count": 49,
   "id": "2aef4507-733b-40ff-b1d8-2c5846b33cd2",
   "metadata": {},
   "outputs": [
    {
     "name": "stdout",
     "output_type": "stream",
     "text": [
      "this is my first function\n"
     ]
    },
    {
     "ename": "TypeError",
     "evalue": "unsupported operand type(s) for +: 'NoneType' and 'str'",
     "output_type": "error",
     "traceback": [
      "\u001b[0;31m---------------------------------------------------------------------------\u001b[0m",
      "\u001b[0;31mTypeError\u001b[0m                                 Traceback (most recent call last)",
      "Cell \u001b[0;32mIn[49], line 1\u001b[0m\n\u001b[0;32m----> 1\u001b[0m func() \u001b[38;5;241m+\u001b[39m \u001b[38;5;124m\"\u001b[39m\u001b[38;5;124m in python\u001b[39m\u001b[38;5;124m\"\u001b[39m\n",
      "\u001b[0;31mTypeError\u001b[0m: unsupported operand type(s) for +: 'NoneType' and 'str'"
     ]
    }
   ],
   "source": [
    "func() + \" in python\""
   ]
  },
  {
   "cell_type": "code",
   "execution_count": 51,
   "id": "2fd93fa8-f49b-4ef4-ae5e-de768cae23fe",
   "metadata": {},
   "outputs": [
    {
     "name": "stdout",
     "output_type": "stream",
     "text": [
      "this is my first function\n",
      "<class 'NoneType'>\n"
     ]
    }
   ],
   "source": [
    "print(type(func()))"
   ]
  },
  {
   "cell_type": "code",
   "execution_count": 61,
   "id": "27db6208-af44-4273-a53f-897d44214bf0",
   "metadata": {},
   "outputs": [
    {
     "data": {
      "text/plain": [
       "'this is my first function in python'"
      ]
     },
     "execution_count": 61,
     "metadata": {},
     "output_type": "execute_result"
    }
   ],
   "source": [
    "def func():\n",
    "    return \"this is my first function\"\n",
    "func() + \" in python\""
   ]
  },
  {
   "cell_type": "code",
   "execution_count": 74,
   "id": "4d36dd2c-6287-4aee-9eda-6288264ddbe8",
   "metadata": {},
   "outputs": [
    {
     "data": {
      "text/plain": [
       "('this is my first function in python', 1, 2.3, (3+5j), True, False)"
      ]
     },
     "execution_count": 74,
     "metadata": {},
     "output_type": "execute_result"
    }
   ],
   "source": [
    "def func():\n",
    "    return \"this is my first function in python\",1,2.3,3+5j,True,False\n",
    "func()"
   ]
  },
  {
   "cell_type": "code",
   "execution_count": 76,
   "id": "768ca9c0-be30-4788-b454-09a256962f68",
   "metadata": {},
   "outputs": [
    {
     "data": {
      "text/plain": [
       "tuple"
      ]
     },
     "execution_count": 76,
     "metadata": {},
     "output_type": "execute_result"
    }
   ],
   "source": [
    "a = func()\n",
    "type(a)"
   ]
  },
  {
   "cell_type": "code",
   "execution_count": 78,
   "id": "249290f2-b708-4ccf-8169-4d120c3499ef",
   "metadata": {},
   "outputs": [],
   "source": [
    "a,b,c,d,e,f = func()"
   ]
  },
  {
   "cell_type": "code",
   "execution_count": 80,
   "id": "f997a9bc-1490-497f-9295-f307a52721e3",
   "metadata": {},
   "outputs": [
    {
     "data": {
      "text/plain": [
       "'this is my first function in python'"
      ]
     },
     "execution_count": 80,
     "metadata": {},
     "output_type": "execute_result"
    }
   ],
   "source": [
    "a"
   ]
  },
  {
   "cell_type": "code",
   "execution_count": 82,
   "id": "8a19caad-a072-4fc4-80f2-7a1940a095a7",
   "metadata": {},
   "outputs": [
    {
     "data": {
      "text/plain": [
       "1"
      ]
     },
     "execution_count": 82,
     "metadata": {},
     "output_type": "execute_result"
    }
   ],
   "source": [
    "b"
   ]
  },
  {
   "cell_type": "code",
   "execution_count": 100,
   "id": "0d5e9cef-3d32-4461-b594-c784ccc3fb35",
   "metadata": {},
   "outputs": [
    {
     "data": {
      "text/plain": [
       "int"
      ]
     },
     "execution_count": 100,
     "metadata": {},
     "output_type": "execute_result"
    }
   ],
   "source": [
    "def func():\n",
    "    calc = 2+3+6*5\n",
    "    return calc\n",
    "type(func())"
   ]
  },
  {
   "cell_type": "code",
   "execution_count": 116,
   "id": "7ddf375b-1d41-45ed-b2bb-07e1642c79ba",
   "metadata": {},
   "outputs": [
    {
     "data": {
      "text/plain": [
       "625"
      ]
     },
     "execution_count": 116,
     "metadata": {},
     "output_type": "execute_result"
    }
   ],
   "source": [
    "def square_no(a):\n",
    "    return a*a\n",
    "square_no(25)"
   ]
  },
  {
   "cell_type": "code",
   "execution_count": 118,
   "id": "09e0a080-39a7-46be-a3fd-48da6ff1571d",
   "metadata": {},
   "outputs": [
    {
     "data": {
      "text/plain": [
       "36"
      ]
     },
     "execution_count": 118,
     "metadata": {},
     "output_type": "execute_result"
    }
   ],
   "source": [
    "def square_no(arges):\n",
    "    return arges*arges\n",
    "square_no(6)"
   ]
  },
  {
   "cell_type": "code",
   "execution_count": 120,
   "id": "a8005540-eac9-4e87-ad95-dcc681adc01a",
   "metadata": {},
   "outputs": [],
   "source": [
    "def addition(a, b):\n",
    "    return a+b"
   ]
  },
  {
   "cell_type": "code",
   "execution_count": 122,
   "id": "68549559-5827-4058-b9bc-75c8a85c3840",
   "metadata": {},
   "outputs": [
    {
     "data": {
      "text/plain": [
       "11"
      ]
     },
     "execution_count": 122,
     "metadata": {},
     "output_type": "execute_result"
    }
   ],
   "source": [
    "addition(5, 6)"
   ]
  },
  {
   "cell_type": "code",
   "execution_count": 124,
   "id": "58a0611d-7807-4615-8747-ea9199cc63d5",
   "metadata": {},
   "outputs": [
    {
     "data": {
      "text/plain": [
       "192.9"
      ]
     },
     "execution_count": 124,
     "metadata": {},
     "output_type": "execute_result"
    }
   ],
   "source": [
    "addition(100, 92.9)"
   ]
  },
  {
   "cell_type": "code",
   "execution_count": 126,
   "id": "0c071201-d6c4-44d8-90af-f84cf542ff62",
   "metadata": {},
   "outputs": [
    {
     "data": {
      "text/plain": [
       "'ZAIDKHAN'"
      ]
     },
     "execution_count": 126,
     "metadata": {},
     "output_type": "execute_result"
    }
   ],
   "source": [
    "addition(\"ZAID\", \"KHAN\")"
   ]
  },
  {
   "cell_type": "code",
   "execution_count": 128,
   "id": "1fb0a9b6-cecc-4e30-9e64-c000ab08d87e",
   "metadata": {},
   "outputs": [
    {
     "data": {
      "text/plain": [
       "[1, 2, 3, 4, 5, 6]"
      ]
     },
     "execution_count": 128,
     "metadata": {},
     "output_type": "execute_result"
    }
   ],
   "source": [
    "addition([1,2,3], [4,5,6])"
   ]
  },
  {
   "cell_type": "code",
   "execution_count": 130,
   "id": "4e181c3f-5f8f-437b-a839-6d5eb7ad44cd",
   "metadata": {},
   "outputs": [
    {
     "data": {
      "text/plain": [
       "'skillspw'"
      ]
     },
     "execution_count": 130,
     "metadata": {},
     "output_type": "execute_result"
    }
   ],
   "source": [
    "addition(\"skills\", \"pw\")"
   ]
  },
  {
   "cell_type": "code",
   "execution_count": 138,
   "id": "3dda9553-c9d0-4ccd-a97d-2b9cddbc7e68",
   "metadata": {},
   "outputs": [
    {
     "data": {
      "text/plain": [
       "'pwskills'"
      ]
     },
     "execution_count": 138,
     "metadata": {},
     "output_type": "execute_result"
    }
   ],
   "source": [
    "addition(b=\"skills\", a=\"pw\")"
   ]
  },
  {
   "cell_type": "code",
   "execution_count": 142,
   "id": "bbc4f734-0dcc-4ca6-89e6-e24aa7885de0",
   "metadata": {},
   "outputs": [
    {
     "data": {
      "text/plain": [
       "6"
      ]
     },
     "execution_count": 142,
     "metadata": {},
     "output_type": "execute_result"
    }
   ],
   "source": [
    "def sum1(a,b,c):\n",
    "    return a+b+c\n",
    "sum1(1,2,3)"
   ]
  },
  {
   "cell_type": "code",
   "execution_count": 150,
   "id": "b38d82ed-cb05-43c3-a96b-616e8b55d5b0",
   "metadata": {},
   "outputs": [
    {
     "data": {
      "text/plain": [
       "5"
      ]
     },
     "execution_count": 150,
     "metadata": {},
     "output_type": "execute_result"
    }
   ],
   "source": [
    "def sum1(b,c, a=0):\n",
    "    return a+b+c\n",
    "sum1(b=1,c=4)"
   ]
  },
  {
   "cell_type": "code",
   "execution_count": 154,
   "id": "b8373c68-b1c7-45a6-bdb1-2ee5680f113f",
   "metadata": {},
   "outputs": [
    {
     "data": {
      "text/plain": [
       "1"
      ]
     },
     "execution_count": 154,
     "metadata": {},
     "output_type": "execute_result"
    }
   ],
   "source": [
    "def sum1(b=0,c=0,a=0):\n",
    "    return a+b+c\n",
    "sum1(b=1)            "
   ]
  },
  {
   "cell_type": "code",
   "execution_count": 190,
   "id": "9ad2e0d5-ef62-40ad-b728-8311d045e75e",
   "metadata": {},
   "outputs": [],
   "source": [
    "def sum1(b=6, c=0, a=0):\n",
    "    return a+b+c"
   ]
  },
  {
   "cell_type": "code",
   "execution_count": 192,
   "id": "86ff6f8d-07be-4be4-b177-a78a1685a141",
   "metadata": {},
   "outputs": [
    {
     "data": {
      "text/plain": [
       "10"
      ]
     },
     "execution_count": 192,
     "metadata": {},
     "output_type": "execute_result"
    }
   ],
   "source": [
    "sum1(c=4)"
   ]
  },
  {
   "cell_type": "code",
   "execution_count": 194,
   "id": "d13b1614-71c5-44df-8f3c-da8cc456b43c",
   "metadata": {},
   "outputs": [
    {
     "data": {
      "text/plain": [
       "5"
      ]
     },
     "execution_count": 194,
     "metadata": {},
     "output_type": "execute_result"
    }
   ],
   "source": [
    "sum1(5)"
   ]
  },
  {
   "cell_type": "code",
   "execution_count": 198,
   "id": "dd9543c3-11b9-4526-97aa-f33b588dcb52",
   "metadata": {},
   "outputs": [],
   "source": [
    "def add_two_number():\n",
    "    a = int(input(\"enter the first no.\"))\n",
    "    b = int(input(\"enter the second no.\"))\n",
    "    return a+b"
   ]
  },
  {
   "cell_type": "code",
   "execution_count": 200,
   "id": "f035db9b-3848-4700-9283-d63e5e389768",
   "metadata": {},
   "outputs": [
    {
     "name": "stdin",
     "output_type": "stream",
     "text": [
      "enter the first no. 109\n",
      "enter the second no. 109\n"
     ]
    },
    {
     "data": {
      "text/plain": [
       "218"
      ]
     },
     "execution_count": 200,
     "metadata": {},
     "output_type": "execute_result"
    }
   ],
   "source": [
    "add_two_number()"
   ]
  },
  {
   "cell_type": "code",
   "execution_count": 202,
   "id": "9a25174f-edd0-4089-b337-6d58e5df2c1a",
   "metadata": {},
   "outputs": [
    {
     "name": "stdin",
     "output_type": "stream",
     "text": [
      "enter the first no. 500\n",
      "enter the second no. 286\n"
     ]
    },
    {
     "data": {
      "text/plain": [
       "786"
      ]
     },
     "execution_count": 202,
     "metadata": {},
     "output_type": "execute_result"
    }
   ],
   "source": [
    "add_two_number()"
   ]
  },
  {
   "cell_type": "code",
   "execution_count": 227,
   "id": "e13853d8-36e5-4d2e-ae1e-e66383f99db6",
   "metadata": {},
   "outputs": [],
   "source": [
    "def add_two_list():\n",
    "    a = list(input('enter the first list'))\n",
    "    b = list(input('enter the second list'))\n",
    "    return a + b"
   ]
  },
  {
   "cell_type": "code",
   "execution_count": 231,
   "id": "58a9c795-08a8-4558-bd6a-17dce6899c04",
   "metadata": {},
   "outputs": [
    {
     "name": "stdin",
     "output_type": "stream",
     "text": [
      "enter the first list 234\n",
      "enter the second list 456\n"
     ]
    },
    {
     "data": {
      "text/plain": [
       "['2', '3', '4', '4', '5', '6']"
      ]
     },
     "execution_count": 231,
     "metadata": {},
     "output_type": "execute_result"
    }
   ],
   "source": [
    "add_two_list()"
   ]
  },
  {
   "cell_type": "code",
   "execution_count": 38,
   "id": "d9724de6-0a6d-4458-aa83-6da24d83891f",
   "metadata": {},
   "outputs": [],
   "source": [
    "def only_num(a):\n",
    "    n=[]\n",
    "    for i in a:\n",
    "        if type(i) == int or type(i) == float:\n",
    "            n.append(i)\n",
    "    return n\n",
    "            "
   ]
  },
  {
   "cell_type": "code",
   "execution_count": 40,
   "id": "e1362e1f-3f0e-42d3-9850-564bce21d7a4",
   "metadata": {},
   "outputs": [
    {
     "data": {
      "text/plain": [
       "[1, 2.2, 3.4, 5, 5, 6]"
      ]
     },
     "execution_count": 40,
     "metadata": {},
     "output_type": "execute_result"
    }
   ],
   "source": [
    "only_num([1,2.2,3.4,5,\"ZAID\",5,6])"
   ]
  },
  {
   "cell_type": "code",
   "execution_count": 27,
   "id": "cfebb33a-90ac-4c0b-ba22-1c1e282e024f",
   "metadata": {},
   "outputs": [],
   "source": [
    "def only_numeric(a):\n",
    "    n=[]\n",
    "    for i in a:\n",
    "        if type(i) == list:\n",
    "            for j in i:\n",
    "                if type(j) == int or type(j) == float:\n",
    "                    n.append(j)\n",
    "        else:        \n",
    "            if type(i) == int or type(i) == float:\n",
    "                n.append(i)\n",
    "    return n"
   ]
  },
  {
   "cell_type": "code",
   "execution_count": 31,
   "id": "4c8fba66-0a05-4d1c-9eda-909c9e722cc7",
   "metadata": {},
   "outputs": [
    {
     "data": {
      "text/plain": [
       "[1, 2, 3, 4.5, 7, 100, 101, 101.4]"
      ]
     },
     "execution_count": 31,
     "metadata": {},
     "output_type": "execute_result"
    }
   ],
   "source": [
    "only_numeric([1,2,3,4.5,7,3+5j,\"zaid\",[100,101,101.4,\"khan\"]])"
   ]
  },
  {
   "cell_type": "code",
   "execution_count": 39,
   "id": "ca0e9662-71d6-4f3c-8fb5-1a5f03e92c13",
   "metadata": {},
   "outputs": [],
   "source": [
    "def only_numeric(a):\n",
    "    n=[]\n",
    "    for i in a:\n",
    "        if type(i) == list:\n",
    "            for j in i:\n",
    "                if type(j) == int or type(j) == float:\n",
    "                    n.append(j)\n",
    "        else:# indentation matters in coding due to we didn't get output from code\n",
    "            if type(i) == int or type(i) == float:\n",
    "                n.append(i)\n",
    "    return n"
   ]
  },
  {
   "cell_type": "code",
   "execution_count": 41,
   "id": "6266e168-3991-47b3-8806-a59bab9664e4",
   "metadata": {},
   "outputs": [
    {
     "data": {
      "text/plain": [
       "[1, 2, 3, 4.5, 7, 100, 101, 101.4]"
      ]
     },
     "execution_count": 41,
     "metadata": {},
     "output_type": "execute_result"
    }
   ],
   "source": [
    "only_numeric([1,2,3,4.5,7,3+5j,\"zaid\",[100,101,101.4,\"khan\"]])"
   ]
  },
  {
   "cell_type": "code",
   "execution_count": 45,
   "id": "56e60572-8d43-40c0-b850-70d5e0e25505",
   "metadata": {},
   "outputs": [],
   "source": [
    "def sum1(*arges):\n",
    "    return arges"
   ]
  },
  {
   "cell_type": "code",
   "execution_count": 47,
   "id": "384e05bc-8ade-4c0e-a181-07b83ce4b24f",
   "metadata": {},
   "outputs": [
    {
     "data": {
      "text/plain": [
       "(1, 2, 3, 4, 5)"
      ]
     },
     "execution_count": 47,
     "metadata": {},
     "output_type": "execute_result"
    }
   ],
   "source": [
    "sum1(1,2,3,4,5)"
   ]
  },
  {
   "cell_type": "code",
   "execution_count": 49,
   "id": "ec764b93-1cd2-41f0-9e3b-f542a2deb544",
   "metadata": {},
   "outputs": [
    {
     "data": {
      "text/plain": [
       "(1, 2, 3, 4, 5, 6, 7, 8, 8, 8)"
      ]
     },
     "execution_count": 49,
     "metadata": {},
     "output_type": "execute_result"
    }
   ],
   "source": [
    "sum1(1,2,3,4,5,6,7,8,8,8)"
   ]
  },
  {
   "cell_type": "code",
   "execution_count": 59,
   "id": "4bcda82c-0e65-4cd9-990a-8d96d86b3a34",
   "metadata": {},
   "outputs": [],
   "source": [
    "def sum1(*args):\n",
    "    s = 0\n",
    "    for i in args:\n",
    "        s = s+i\n",
    "    return s"
   ]
  },
  {
   "cell_type": "code",
   "execution_count": 65,
   "id": "57b40859-79fa-454b-8c67-f2d49c8a6aff",
   "metadata": {},
   "outputs": [
    {
     "data": {
      "text/plain": [
       "20002"
      ]
     },
     "execution_count": 65,
     "metadata": {},
     "output_type": "execute_result"
    }
   ],
   "source": [
    "sum1(1,2,19999)"
   ]
  },
  {
   "cell_type": "code",
   "execution_count": 67,
   "id": "32d0a432-b8b6-4a95-8260-22c0efe40e9e",
   "metadata": {},
   "outputs": [],
   "source": [
    "def test(*arges, a):\n",
    "    return arges, a"
   ]
  },
  {
   "cell_type": "code",
   "execution_count": 69,
   "id": "5aca18b8-05ff-4160-9c89-ae647af16df5",
   "metadata": {},
   "outputs": [
    {
     "data": {
      "text/plain": [
       "((1, 2, 3, 4, 5, 6), 'ZAID')"
      ]
     },
     "execution_count": 69,
     "metadata": {},
     "output_type": "execute_result"
    }
   ],
   "source": [
    "test(1,2,3,4,5,6, a = \"ZAID\")"
   ]
  },
  {
   "cell_type": "code",
   "execution_count": 73,
   "id": "5d76f8c2-f477-45a8-af05-4483f26aa1df",
   "metadata": {},
   "outputs": [
    {
     "data": {
      "text/plain": [
       "((1, 2, 3, 4, 5, 6, 7, 8, 9, 0), 'MUHAMMAD')"
      ]
     },
     "execution_count": 73,
     "metadata": {},
     "output_type": "execute_result"
    }
   ],
   "source": [
    "test(1,2,3,4,5,6,7,8,9,0, a = \"MUHAMMAD\")"
   ]
  },
  {
   "cell_type": "code",
   "execution_count": 79,
   "id": "930d9e73-a2e5-4b35-ac3f-9ad9dead03b7",
   "metadata": {},
   "outputs": [],
   "source": [
    "def test(*arges):\n",
    "    l = []\n",
    "    for i in arges:\n",
    "        if type(i) == list:\n",
    "            l.append(i)\n",
    "    return l"
   ]
  },
  {
   "cell_type": "code",
   "execution_count": 83,
   "id": "e85a0281-072c-40ee-9e1f-86a9742f0bfc",
   "metadata": {},
   "outputs": [
    {
     "data": {
      "text/plain": [
       "[[1, 2, 3, 45, 87], ['zaid']]"
      ]
     },
     "execution_count": 83,
     "metadata": {},
     "output_type": "execute_result"
    }
   ],
   "source": [
    "test(1,2,3,4,45,[1,2,3,45,87],[\"zaid\"])"
   ]
  },
  {
   "cell_type": "code",
   "execution_count": 86,
   "id": "6d22dc27-4074-4d14-8f92-b857cbabe793",
   "metadata": {},
   "outputs": [],
   "source": [
    "def test(*zaid, **zaid1):\n",
    "    return zaid, zaid1 "
   ]
  },
  {
   "cell_type": "code",
   "execution_count": 88,
   "id": "f6012cf8-0ac9-4e30-ac39-22abb33bb267",
   "metadata": {},
   "outputs": [
    {
     "data": {
      "text/plain": [
       "((1, 2, 3, 4), {'a': 100, 'b': 60})"
      ]
     },
     "execution_count": 88,
     "metadata": {},
     "output_type": "execute_result"
    }
   ],
   "source": [
    "test(1,2,3,4, a=100, b=60)"
   ]
  },
  {
   "cell_type": "code",
   "execution_count": 90,
   "id": "3a96d848-9a64-49d4-8e60-5421a5c4df60",
   "metadata": {},
   "outputs": [
    {
     "data": {
      "text/plain": [
       "((), {})"
      ]
     },
     "execution_count": 90,
     "metadata": {},
     "output_type": "execute_result"
    }
   ],
   "source": [
    "test()"
   ]
  },
  {
   "cell_type": "code",
   "execution_count": 116,
   "id": "460f5fd0-5595-4a71-9256-316c3791e48d",
   "metadata": {},
   "outputs": [],
   "source": [
    "def greet():\n",
    "    message = \"HELLO, WORLD!\\n MY NAME IS PYTHON\"\n",
    "    print(message)"
   ]
  },
  {
   "cell_type": "code",
   "execution_count": 118,
   "id": "d0b60cbf-6bec-4f94-8f21-f57ed8595de9",
   "metadata": {},
   "outputs": [
    {
     "name": "stdout",
     "output_type": "stream",
     "text": [
      "HELLO, WORLD!\n",
      " MY NAME IS PYTHON\n"
     ]
    }
   ],
   "source": [
    "greet()"
   ]
  },
  {
   "cell_type": "code",
   "execution_count": 120,
   "id": "d904a532-5d3b-42c4-ae7a-d52307ea98ef",
   "metadata": {},
   "outputs": [],
   "source": [
    "subpart = \" to the course\"\n",
    "def greet():\n",
    "    message = \"welcome\" + subpart\n",
    "    print(message)"
   ]
  },
  {
   "cell_type": "code",
   "execution_count": 122,
   "id": "99350de4-9529-448a-8177-210be3f27041",
   "metadata": {},
   "outputs": [
    {
     "name": "stdout",
     "output_type": "stream",
     "text": [
      "welcome to the course\n"
     ]
    }
   ],
   "source": [
    "greet()"
   ]
  },
  {
   "cell_type": "code",
   "execution_count": 165,
   "id": "1b9db3fa-dcd8-4e59-b98b-ffe67980bbd2",
   "metadata": {},
   "outputs": [],
   "source": [
    "def total_marks(marks_list):\n",
    "        return sum(marks_list)\n",
    "\n",
    "def marks_in_subject(**kwargs):\n",
    "    marks_list = []\n",
    "    for sub, marks in kwargs.items():\n",
    "        marks_list.append(marks)\n",
    "        \n",
    "    return total_marks(marks_list)"
   ]
  },
  {
   "cell_type": "code",
   "execution_count": 171,
   "id": "ea581baf-d9b3-44d8-bbb5-27e1f83fba79",
   "metadata": {},
   "outputs": [
    {
     "data": {
      "text/plain": [
       "10689"
      ]
     },
     "execution_count": 171,
     "metadata": {},
     "output_type": "execute_result"
    }
   ],
   "source": [
    "marks_in_subject(a=100, b=200,c=200, d=100, e=10089)"
   ]
  },
  {
   "cell_type": "code",
   "execution_count": 175,
   "id": "1d7bd4ba-9536-4ddb-b640-bd308c72352a",
   "metadata": {},
   "outputs": [],
   "source": [
    "def find_power(num, power):\n",
    "\n",
    "    return num*power"
   ]
  },
  {
   "cell_type": "code",
   "execution_count": 177,
   "id": "d1f7ec9d-2bee-461f-871c-892c80b0c757",
   "metadata": {},
   "outputs": [
    {
     "data": {
      "text/plain": [
       "10"
      ]
     },
     "execution_count": 177,
     "metadata": {},
     "output_type": "execute_result"
    }
   ],
   "source": [
    "find_power(2, 5)"
   ]
  },
  {
   "cell_type": "code",
   "execution_count": 181,
   "id": "ea1b894a-f185-48ca-8fec-a36ac249a083",
   "metadata": {},
   "outputs": [
    {
     "data": {
      "text/plain": [
       "50"
      ]
     },
     "execution_count": 181,
     "metadata": {},
     "output_type": "execute_result"
    }
   ],
   "source": [
    "find_power(5, 10)"
   ]
  },
  {
   "cell_type": "code",
   "execution_count": 183,
   "id": "c99ba186-25bd-40c0-907d-5f70f2f9987f",
   "metadata": {},
   "outputs": [],
   "source": [
    "s = \"pwskills\"\n",
    "w = iter(s)"
   ]
  },
  {
   "cell_type": "code",
   "execution_count": 185,
   "id": "288992b7-6112-485a-a2a7-0760fbb033b3",
   "metadata": {},
   "outputs": [
    {
     "data": {
      "text/plain": [
       "'p'"
      ]
     },
     "execution_count": 185,
     "metadata": {},
     "output_type": "execute_result"
    }
   ],
   "source": [
    "next(w)"
   ]
  },
  {
   "cell_type": "code",
   "execution_count": 187,
   "id": "71c3386d-3736-40c4-aba1-4b2304ae86ea",
   "metadata": {},
   "outputs": [
    {
     "data": {
      "text/plain": [
       "'s'"
      ]
     },
     "execution_count": 187,
     "metadata": {},
     "output_type": "execute_result"
    }
   ],
   "source": [
    "next(w)\n",
    "next(w)\n"
   ]
  },
  {
   "cell_type": "code",
   "execution_count": 189,
   "id": "9c04391a-6038-4f6b-bcfa-30fdb3627655",
   "metadata": {},
   "outputs": [
    {
     "data": {
      "text/plain": [
       "'k'"
      ]
     },
     "execution_count": 189,
     "metadata": {},
     "output_type": "execute_result"
    }
   ],
   "source": [
    "next(w)"
   ]
  },
  {
   "cell_type": "code",
   "execution_count": 191,
   "id": "4b740687-68d1-4263-bae3-82df40d1a78e",
   "metadata": {},
   "outputs": [
    {
     "data": {
      "text/plain": [
       "'i'"
      ]
     },
     "execution_count": 191,
     "metadata": {},
     "output_type": "execute_result"
    }
   ],
   "source": [
    "next(w)"
   ]
  },
  {
   "cell_type": "code",
   "execution_count": 193,
   "id": "99158566-64f9-4045-849d-ccda47d784ea",
   "metadata": {},
   "outputs": [
    {
     "data": {
      "text/plain": [
       "'l'"
      ]
     },
     "execution_count": 193,
     "metadata": {},
     "output_type": "execute_result"
    }
   ],
   "source": [
    "next(w)"
   ]
  },
  {
   "cell_type": "code",
   "execution_count": 195,
   "id": "7012d2db-0cbf-414d-b4e8-3a6c2a24ba1a",
   "metadata": {},
   "outputs": [
    {
     "data": {
      "text/plain": [
       "'l'"
      ]
     },
     "execution_count": 195,
     "metadata": {},
     "output_type": "execute_result"
    }
   ],
   "source": [
    "next(w)"
   ]
  },
  {
   "cell_type": "code",
   "execution_count": 197,
   "id": "c772af59-53db-4be4-86e3-6d69c8de8a76",
   "metadata": {},
   "outputs": [
    {
     "data": {
      "text/plain": [
       "'s'"
      ]
     },
     "execution_count": 197,
     "metadata": {},
     "output_type": "execute_result"
    }
   ],
   "source": [
    "next(w)"
   ]
  },
  {
   "cell_type": "code",
   "execution_count": 199,
   "id": "3413926c-8835-4487-8e3b-1eb1566f329f",
   "metadata": {},
   "outputs": [
    {
     "ename": "StopIteration",
     "evalue": "",
     "output_type": "error",
     "traceback": [
      "\u001b[0;31m---------------------------------------------------------------------------\u001b[0m",
      "\u001b[0;31mStopIteration\u001b[0m                             Traceback (most recent call last)",
      "Cell \u001b[0;32mIn[199], line 1\u001b[0m\n\u001b[0;32m----> 1\u001b[0m \u001b[38;5;28mnext\u001b[39m(w)\n",
      "\u001b[0;31mStopIteration\u001b[0m: "
     ]
    }
   ],
   "source": [
    "next(w)"
   ]
  },
  {
   "cell_type": "code",
   "execution_count": 247,
   "id": "73fb28ae-375f-4bf7-9b1e-df41b8c08813",
   "metadata": {},
   "outputs": [
    {
     "name": "stdout",
     "output_type": "stream",
     "text": [
      "2\n",
      "3\n",
      "4\n",
      "6\n",
      "7\n",
      "4.4\n"
     ]
    }
   ],
   "source": [
    "l = iter([2,3,4,6,7,4.4])\n",
    "for i in l:\n",
    "    print(i)"
   ]
  },
  {
   "cell_type": "code",
   "execution_count": 205,
   "id": "fa607328-c7c5-445f-a369-4561319d27f5",
   "metadata": {},
   "outputs": [
    {
     "data": {
      "text/plain": [
       "2"
      ]
     },
     "execution_count": 205,
     "metadata": {},
     "output_type": "execute_result"
    }
   ],
   "source": [
    "next(l)"
   ]
  },
  {
   "cell_type": "code",
   "execution_count": 207,
   "id": "851031e2-1515-46c8-98cd-be7b44c1f487",
   "metadata": {},
   "outputs": [
    {
     "data": {
      "text/plain": [
       "3"
      ]
     },
     "execution_count": 207,
     "metadata": {},
     "output_type": "execute_result"
    }
   ],
   "source": [
    "next(l)"
   ]
  },
  {
   "cell_type": "code",
   "execution_count": 209,
   "id": "e1bfa6f3-9647-44de-8401-26aafa99806f",
   "metadata": {},
   "outputs": [
    {
     "data": {
      "text/plain": [
       "4"
      ]
     },
     "execution_count": 209,
     "metadata": {},
     "output_type": "execute_result"
    }
   ],
   "source": [
    "next(l)"
   ]
  },
  {
   "cell_type": "code",
   "execution_count": 211,
   "id": "51aff9d3-f881-4e9f-874c-bd6ef42a44a1",
   "metadata": {},
   "outputs": [
    {
     "data": {
      "text/plain": [
       "6"
      ]
     },
     "execution_count": 211,
     "metadata": {},
     "output_type": "execute_result"
    }
   ],
   "source": [
    "next(l)"
   ]
  },
  {
   "cell_type": "code",
   "execution_count": 213,
   "id": "70738f93-564f-46de-9679-562ddcd83343",
   "metadata": {},
   "outputs": [
    {
     "data": {
      "text/plain": [
       "7"
      ]
     },
     "execution_count": 213,
     "metadata": {},
     "output_type": "execute_result"
    }
   ],
   "source": [
    "next(l)"
   ]
  },
  {
   "cell_type": "code",
   "execution_count": 215,
   "id": "0da798c0-c85c-4847-b64f-816f891c09fc",
   "metadata": {},
   "outputs": [
    {
     "data": {
      "text/plain": [
       "4.4"
      ]
     },
     "execution_count": 215,
     "metadata": {},
     "output_type": "execute_result"
    }
   ],
   "source": [
    "next(l)"
   ]
  },
  {
   "cell_type": "code",
   "execution_count": 249,
   "id": "6a35beae-a10c-467c-8f28-fc39a6f2f847",
   "metadata": {},
   "outputs": [
    {
     "data": {
      "text/plain": [
       "<tuple_iterator at 0x7ba6dbf07c10>"
      ]
     },
     "execution_count": 249,
     "metadata": {},
     "output_type": "execute_result"
    }
   ],
   "source": [
    "t = iter((1,2,3,4))\n",
    "t"
   ]
  },
  {
   "cell_type": "code",
   "execution_count": 257,
   "id": "ffd58ab7-0505-4547-80c7-f10e93d8b0dd",
   "metadata": {},
   "outputs": [
    {
     "data": {
      "text/plain": [
       "<dict_keyiterator at 0x7ba6b5f444f0>"
      ]
     },
     "execution_count": 257,
     "metadata": {},
     "output_type": "execute_result"
    }
   ],
   "source": [
    "d = iter({\"NAME\":\"ZAID\"})\n",
    "d"
   ]
  },
  {
   "cell_type": "code",
   "execution_count": 280,
   "id": "11c0fab4-7334-494c-bfc6-777f8680c310",
   "metadata": {},
   "outputs": [
    {
     "data": {
      "text/plain": [
       "[0, 1, 4, 9, 16, 25, 36, 49, 64, 81, 100]"
      ]
     },
     "execution_count": 280,
     "metadata": {},
     "output_type": "execute_result"
    }
   ],
   "source": [
    "def square_number(n):\n",
    "    result = []\n",
    "    for i in range(n):\n",
    "        result.append(i ** 2)\n",
    "    return result\n",
    "square_number(11)"
   ]
  },
  {
   "cell_type": "code",
   "execution_count": 308,
   "id": "1f560573-9889-4abb-a2cc-572d6fb73c63",
   "metadata": {},
   "outputs": [
    {
     "data": {
      "text/plain": [
       "<generator object square_number at 0x7ba6b4555970>"
      ]
     },
     "execution_count": 308,
     "metadata": {},
     "output_type": "execute_result"
    }
   ],
   "source": [
    "def square_number(n):\n",
    "    for i in range(n):\n",
    "        yield i**2\n",
    "square_number(10)"
   ]
  },
  {
   "cell_type": "code",
   "execution_count": 335,
   "id": "dc1c5a1b-cbf8-441b-b570-9e9c3423aa01",
   "metadata": {},
   "outputs": [
    {
     "ename": "StopIteration",
     "evalue": "",
     "output_type": "error",
     "traceback": [
      "\u001b[0;31m---------------------------------------------------------------------------\u001b[0m",
      "\u001b[0;31mStopIteration\u001b[0m                             Traceback (most recent call last)",
      "Cell \u001b[0;32mIn[335], line 1\u001b[0m\n\u001b[0;32m----> 1\u001b[0m \u001b[38;5;28mnext\u001b[39m(gen)\n",
      "\u001b[0;31mStopIteration\u001b[0m: "
     ]
    }
   ],
   "source": [
    "next(gen)"
   ]
  },
  {
   "cell_type": "code",
   "execution_count": 312,
   "id": "81a375b0-57dd-4644-b06a-ae1e4907c924",
   "metadata": {},
   "outputs": [
    {
     "data": {
      "text/plain": [
       "9"
      ]
     },
     "execution_count": 312,
     "metadata": {},
     "output_type": "execute_result"
    }
   ],
   "source": [
    "next(gen)"
   ]
  },
  {
   "cell_type": "code",
   "execution_count": 315,
   "id": "3a95a8be-4c08-4af9-a165-b101c604e74f",
   "metadata": {},
   "outputs": [
    {
     "data": {
      "text/plain": [
       "16"
      ]
     },
     "execution_count": 315,
     "metadata": {},
     "output_type": "execute_result"
    }
   ],
   "source": [
    "next(gen)"
   ]
  },
  {
   "cell_type": "code",
   "execution_count": 317,
   "id": "6db90b8f-3fec-4768-9d74-87cd9222de91",
   "metadata": {},
   "outputs": [
    {
     "data": {
      "text/plain": [
       "25"
      ]
     },
     "execution_count": 317,
     "metadata": {},
     "output_type": "execute_result"
    }
   ],
   "source": [
    "next(gen)"
   ]
  },
  {
   "cell_type": "code",
   "execution_count": 319,
   "id": "15774245-1113-40b7-8958-ce19659e68bd",
   "metadata": {},
   "outputs": [
    {
     "data": {
      "text/plain": [
       "36"
      ]
     },
     "execution_count": 319,
     "metadata": {},
     "output_type": "execute_result"
    }
   ],
   "source": [
    "next(gen)"
   ]
  },
  {
   "cell_type": "code",
   "execution_count": 321,
   "id": "543704ad-2596-4caa-a66c-1bbefed70fe1",
   "metadata": {},
   "outputs": [
    {
     "data": {
      "text/plain": [
       "49"
      ]
     },
     "execution_count": 321,
     "metadata": {},
     "output_type": "execute_result"
    }
   ],
   "source": [
    "next(gen)"
   ]
  },
  {
   "cell_type": "code",
   "execution_count": 323,
   "id": "dd157e0b-24b5-430c-8a4f-2f910681dd94",
   "metadata": {},
   "outputs": [
    {
     "data": {
      "text/plain": [
       "64"
      ]
     },
     "execution_count": 323,
     "metadata": {},
     "output_type": "execute_result"
    }
   ],
   "source": [
    "next(gen)"
   ]
  },
  {
   "cell_type": "code",
   "execution_count": 325,
   "id": "3fc7e916-3972-48b0-92cd-ea8f7029de8f",
   "metadata": {},
   "outputs": [
    {
     "data": {
      "text/plain": [
       "81"
      ]
     },
     "execution_count": 325,
     "metadata": {},
     "output_type": "execute_result"
    }
   ],
   "source": [
    "next(gen)"
   ]
  },
  {
   "cell_type": "code",
   "execution_count": 327,
   "id": "746971fc-c978-444a-beff-16e894730aff",
   "metadata": {},
   "outputs": [
    {
     "ename": "StopIteration",
     "evalue": "",
     "output_type": "error",
     "traceback": [
      "\u001b[0;31m---------------------------------------------------------------------------\u001b[0m",
      "\u001b[0;31mStopIteration\u001b[0m                             Traceback (most recent call last)",
      "Cell \u001b[0;32mIn[327], line 1\u001b[0m\n\u001b[0;32m----> 1\u001b[0m \u001b[38;5;28mnext\u001b[39m(gen)\n",
      "\u001b[0;31mStopIteration\u001b[0m: "
     ]
    }
   ],
   "source": [
    "next(gen)"
   ]
  },
  {
   "cell_type": "code",
   "execution_count": 337,
   "id": "c8d29895-2d7b-4904-b3c3-919a943eed7a",
   "metadata": {},
   "outputs": [
    {
     "name": "stdout",
     "output_type": "stream",
     "text": [
      "1\n",
      "2\n",
      "3\n",
      "4\n",
      "5\n",
      "6\n",
      "7\n",
      "8\n",
      "9\n"
     ]
    }
   ],
   "source": [
    "for i in range(1,10):\n",
    "    print(i)"
   ]
  },
  {
   "cell_type": "code",
   "execution_count": 367,
   "id": "180d05b3-2192-45e3-a5d7-a9832d293650",
   "metadata": {},
   "outputs": [],
   "source": [
    "def fib(n):\n",
    "    a = 0 \n",
    "    b = 1\n",
    "    for i in range(n):\n",
    "        yield a\n",
    "        a, b = b, a+b"
   ]
  },
  {
   "cell_type": "code",
   "execution_count": 369,
   "id": "6b92a3ff-7245-4696-9f70-130e4c5b5031",
   "metadata": {},
   "outputs": [],
   "source": [
    "f=fib(100)"
   ]
  },
  {
   "cell_type": "code",
   "execution_count": 371,
   "id": "d02b7989-d7e4-4b7e-aff1-0a27574bef09",
   "metadata": {},
   "outputs": [
    {
     "data": {
      "text/plain": [
       "0"
      ]
     },
     "execution_count": 371,
     "metadata": {},
     "output_type": "execute_result"
    }
   ],
   "source": [
    "next(f)"
   ]
  },
  {
   "cell_type": "code",
   "execution_count": 373,
   "id": "498a0d2a-12e0-4175-890d-64b3dacfb4ac",
   "metadata": {},
   "outputs": [
    {
     "data": {
      "text/plain": [
       "1"
      ]
     },
     "execution_count": 373,
     "metadata": {},
     "output_type": "execute_result"
    }
   ],
   "source": [
    "next(f)"
   ]
  },
  {
   "cell_type": "code",
   "execution_count": 375,
   "id": "121aa1f1-c08a-40b8-9b6e-91d608f8dda4",
   "metadata": {},
   "outputs": [
    {
     "data": {
      "text/plain": [
       "1"
      ]
     },
     "execution_count": 375,
     "metadata": {},
     "output_type": "execute_result"
    }
   ],
   "source": [
    "next(f)"
   ]
  },
  {
   "cell_type": "code",
   "execution_count": 377,
   "id": "1ffdb4e0-5953-48e1-89c0-43397f08568a",
   "metadata": {},
   "outputs": [
    {
     "data": {
      "text/plain": [
       "2"
      ]
     },
     "execution_count": 377,
     "metadata": {},
     "output_type": "execute_result"
    }
   ],
   "source": [
    "next(f)"
   ]
  },
  {
   "cell_type": "code",
   "execution_count": 379,
   "id": "47dc9328-ee8b-404a-8fc9-4d678c85b83f",
   "metadata": {},
   "outputs": [
    {
     "data": {
      "text/plain": [
       "3"
      ]
     },
     "execution_count": 379,
     "metadata": {},
     "output_type": "execute_result"
    }
   ],
   "source": [
    "next(f)"
   ]
  },
  {
   "cell_type": "code",
   "execution_count": 381,
   "id": "cbf7bf53-99a5-4afe-b991-7292ddc1c050",
   "metadata": {},
   "outputs": [
    {
     "data": {
      "text/plain": [
       "5"
      ]
     },
     "execution_count": 381,
     "metadata": {},
     "output_type": "execute_result"
    }
   ],
   "source": [
    "next(f)"
   ]
  },
  {
   "cell_type": "code",
   "execution_count": 383,
   "id": "37f973d5-8a66-4771-99b2-e519abb712e1",
   "metadata": {},
   "outputs": [
    {
     "data": {
      "text/plain": [
       "8"
      ]
     },
     "execution_count": 383,
     "metadata": {},
     "output_type": "execute_result"
    }
   ],
   "source": [
    "next(f)"
   ]
  },
  {
   "cell_type": "code",
   "execution_count": 385,
   "id": "5377feb0-01f8-490d-9dc3-f46908109b68",
   "metadata": {},
   "outputs": [
    {
     "data": {
      "text/plain": [
       "13"
      ]
     },
     "execution_count": 385,
     "metadata": {},
     "output_type": "execute_result"
    }
   ],
   "source": [
    "next(f)"
   ]
  },
  {
   "cell_type": "code",
   "execution_count": 392,
   "id": "6e1b42e7-37eb-4eb1-9412-52f8f622b5d4",
   "metadata": {},
   "outputs": [
    {
     "data": {
      "text/plain": [
       "21"
      ]
     },
     "execution_count": 392,
     "metadata": {},
     "output_type": "execute_result"
    }
   ],
   "source": [
    "next(f)"
   ]
  },
  {
   "cell_type": "code",
   "execution_count": 394,
   "id": "da237341-1c55-4152-9e49-f39f669d23a2",
   "metadata": {},
   "outputs": [
    {
     "data": {
      "text/plain": [
       "34"
      ]
     },
     "execution_count": 394,
     "metadata": {},
     "output_type": "execute_result"
    }
   ],
   "source": [
    "next(f)"
   ]
  },
  {
   "cell_type": "code",
   "execution_count": 396,
   "id": "e0d482ee-326c-4712-aa70-6b0695196916",
   "metadata": {},
   "outputs": [
    {
     "data": {
      "text/plain": [
       "55"
      ]
     },
     "execution_count": 396,
     "metadata": {},
     "output_type": "execute_result"
    }
   ],
   "source": [
    "next(f)"
   ]
  },
  {
   "cell_type": "code",
   "execution_count": 398,
   "id": "23a5e124-35e8-480e-8911-612a1d93692d",
   "metadata": {},
   "outputs": [
    {
     "data": {
      "text/plain": [
       "89"
      ]
     },
     "execution_count": 398,
     "metadata": {},
     "output_type": "execute_result"
    }
   ],
   "source": [
    "next(f)"
   ]
  },
  {
   "cell_type": "code",
   "execution_count": 400,
   "id": "42cb678e-8555-413d-bc72-99f368401924",
   "metadata": {},
   "outputs": [
    {
     "data": {
      "text/plain": [
       "144"
      ]
     },
     "execution_count": 400,
     "metadata": {},
     "output_type": "execute_result"
    }
   ],
   "source": [
    "next(f)"
   ]
  },
  {
   "cell_type": "code",
   "execution_count": 402,
   "id": "deb122dc-592d-4e39-8106-54de2ae9862d",
   "metadata": {},
   "outputs": [
    {
     "data": {
      "text/plain": [
       "233"
      ]
     },
     "execution_count": 402,
     "metadata": {},
     "output_type": "execute_result"
    }
   ],
   "source": [
    "next(f)"
   ]
  },
  {
   "cell_type": "code",
   "execution_count": 404,
   "id": "ca871fb9-84fd-4c9b-ad9b-f7db137888f2",
   "metadata": {},
   "outputs": [
    {
     "data": {
      "text/plain": [
       "377"
      ]
     },
     "execution_count": 404,
     "metadata": {},
     "output_type": "execute_result"
    }
   ],
   "source": [
    "next(f)"
   ]
  },
  {
   "cell_type": "code",
   "execution_count": 406,
   "id": "1d431db4-6a5e-4723-accd-4b3f63b69f29",
   "metadata": {},
   "outputs": [
    {
     "data": {
      "text/plain": [
       "610"
      ]
     },
     "execution_count": 406,
     "metadata": {},
     "output_type": "execute_result"
    }
   ],
   "source": [
    "next(f)"
   ]
  },
  {
   "cell_type": "code",
   "execution_count": 408,
   "id": "59b14bfe-93c9-44d2-a68b-c7a418b840e1",
   "metadata": {},
   "outputs": [
    {
     "data": {
      "text/plain": [
       "987"
      ]
     },
     "execution_count": 408,
     "metadata": {},
     "output_type": "execute_result"
    }
   ],
   "source": [
    "next(f)\n"
   ]
  },
  {
   "cell_type": "code",
   "execution_count": 410,
   "id": "e631f04b-8dc9-410f-babb-5130ebf15d55",
   "metadata": {},
   "outputs": [
    {
     "ename": "SyntaxError",
     "evalue": "invalid syntax (979400640.py, line 1)",
     "output_type": "error",
     "traceback": [
      "\u001b[0;36m  Cell \u001b[0;32mIn[410], line 1\u001b[0;36m\u001b[0m\n\u001b[0;31m    next(f)next(f)\u001b[0m\n\u001b[0m           ^\u001b[0m\n\u001b[0;31mSyntaxError\u001b[0m\u001b[0;31m:\u001b[0m invalid syntax\n"
     ]
    }
   ],
   "source": [
    "next(f)next(f)"
   ]
  },
  {
   "cell_type": "code",
   "execution_count": 412,
   "id": "d9e98afa-f51a-4db2-829b-afcf5f771735",
   "metadata": {},
   "outputs": [
    {
     "data": {
      "text/plain": [
       "1597"
      ]
     },
     "execution_count": 412,
     "metadata": {},
     "output_type": "execute_result"
    }
   ],
   "source": [
    "next(f)"
   ]
  },
  {
   "cell_type": "code",
   "execution_count": 414,
   "id": "fe600682-2eb1-4cdf-9a3f-82fc1930a97a",
   "metadata": {},
   "outputs": [
    {
     "data": {
      "text/plain": [
       "2584"
      ]
     },
     "execution_count": 414,
     "metadata": {},
     "output_type": "execute_result"
    }
   ],
   "source": [
    "next(f)"
   ]
  },
  {
   "cell_type": "code",
   "execution_count": 1,
   "id": "ee9ccd23-ce02-4ba7-9b71-a3bd5f4ac563",
   "metadata": {},
   "outputs": [],
   "source": [
    "def square(x):\n",
    "    return x**2\n"
   ]
  },
  {
   "cell_type": "code",
   "execution_count": 11,
   "id": "0e79e5bf-a71c-4dbd-9b74-7202c29fcef1",
   "metadata": {},
   "outputs": [
    {
     "data": {
      "text/plain": [
       "625"
      ]
     },
     "execution_count": 11,
     "metadata": {},
     "output_type": "execute_result"
    }
   ],
   "source": [
    "square(25)"
   ]
  },
  {
   "cell_type": "code",
   "execution_count": 15,
   "id": "f0a971d4-9247-4a09-8af2-acba73cff017",
   "metadata": {},
   "outputs": [],
   "source": [
    "sq_lambda = lambda x: x**2"
   ]
  },
  {
   "cell_type": "code",
   "execution_count": 17,
   "id": "9be3f9ff-29f0-4a67-875e-7822d4305ba6",
   "metadata": {},
   "outputs": [
    {
     "data": {
      "text/plain": [
       "25"
      ]
     },
     "execution_count": 17,
     "metadata": {},
     "output_type": "execute_result"
    }
   ],
   "source": [
    "sq_lambda(5)"
   ]
  },
  {
   "cell_type": "code",
   "execution_count": 19,
   "id": "78980819-00e7-4743-9d07-a965efc4c976",
   "metadata": {},
   "outputs": [],
   "source": [
    "add = lambda a, b: a+b"
   ]
  },
  {
   "cell_type": "code",
   "execution_count": 21,
   "id": "35faef8d-b59e-49a9-a111-66f78e440972",
   "metadata": {},
   "outputs": [
    {
     "data": {
      "text/plain": [
       "12"
      ]
     },
     "execution_count": 21,
     "metadata": {},
     "output_type": "execute_result"
    }
   ],
   "source": [
    "add(5, 7)"
   ]
  },
  {
   "cell_type": "code",
   "execution_count": 24,
   "id": "0b1619a4-b2f5-4d96-8d08-476c8b8be25b",
   "metadata": {},
   "outputs": [],
   "source": [
    "is_even = lambda x: x%2 == 0"
   ]
  },
  {
   "cell_type": "code",
   "execution_count": 28,
   "id": "4ccd210f-87b3-422c-9101-6d64d1ce9a80",
   "metadata": {},
   "outputs": [
    {
     "data": {
      "text/plain": [
       "True"
      ]
     },
     "execution_count": 28,
     "metadata": {},
     "output_type": "execute_result"
    }
   ],
   "source": [
    "is_even(8)"
   ]
  },
  {
   "cell_type": "code",
   "execution_count": 30,
   "id": "c18d9e60-f221-43f4-976d-aafb400120dd",
   "metadata": {},
   "outputs": [
    {
     "data": {
      "text/plain": [
       "['Python', 'Ajay', 'Data Science']"
      ]
     },
     "execution_count": 30,
     "metadata": {},
     "output_type": "execute_result"
    }
   ],
   "source": [
    "x = [\"Python\",\"Ajay\",\"Data Science\"]\n",
    "x"
   ]
  },
  {
   "cell_type": "code",
   "execution_count": 36,
   "id": "a5d0915d-1a4c-4630-959f-a0c50d1336ba",
   "metadata": {},
   "outputs": [
    {
     "data": {
      "text/plain": [
       "['Ajay', 'Python', 'Data Science']"
      ]
     },
     "execution_count": 36,
     "metadata": {},
     "output_type": "execute_result"
    }
   ],
   "source": [
    "sorted(x,key = lambda x: len(x))"
   ]
  },
  {
   "cell_type": "code",
   "execution_count": null,
   "id": "4cdface5-69df-4e4f-941f-442c0dc8bc37",
   "metadata": {},
   "outputs": [],
   "source": []
  }
 ],
 "metadata": {
  "kernelspec": {
   "display_name": "Python 3 (ipykernel)",
   "language": "python",
   "name": "python3"
  },
  "language_info": {
   "codemirror_mode": {
    "name": "ipython",
    "version": 3
   },
   "file_extension": ".py",
   "mimetype": "text/x-python",
   "name": "python",
   "nbconvert_exporter": "python",
   "pygments_lexer": "ipython3",
   "version": "3.12.4"
  }
 },
 "nbformat": 4,
 "nbformat_minor": 5
}
