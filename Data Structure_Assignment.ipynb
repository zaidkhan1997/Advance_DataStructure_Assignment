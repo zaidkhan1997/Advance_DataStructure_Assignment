{
 "cells": [
  {
   "cell_type": "markdown",
   "id": "38e98f2a-7435-4391-8c2f-9d9e9d27785b",
   "metadata": {},
   "source": [
    "# Data Structure_Assignment"
   ]
  },
  {
   "cell_type": "code",
   "execution_count": 3,
   "id": "d6ea3a31-75dd-4b32-8ee2-dfab13c1500c",
   "metadata": {},
   "outputs": [
    {
     "data": {
      "text/plain": [
       "'Hello '"
      ]
     },
     "execution_count": 3,
     "metadata": {},
     "output_type": "execute_result"
    }
   ],
   "source": [
    "#Question_N0.1: Discuss string slicing and provide examples.\n",
    "\n",
    "\n",
    "#Answer: String slicing is a fundamental operation in Python that allows you to extract a portion of a string, creating \n",
    "#a new string from the selected part. In essence, it’s a way to access specific characters or substrings within a larger \n",
    "#string. This process is often referred to as “slicing” because you are essentially cutting a piece of the string to work \n",
    "#with.\n",
    "\n",
    "#EXAMPLES OF STRING SLICING:\n",
    "Text = (\"Hello World\")\n",
    "Text[0:6]  # CHANGE THE VALUE ACCORDING TO INDEX TO SEE STRING SLICING USING INDEX METHOD."
   ]
  },
  {
   "cell_type": "code",
   "execution_count": 23,
   "id": "bc1165d8-2832-4e19-b489-1fc080e02a1d",
   "metadata": {},
   "outputs": [
    {
     "name": "stdout",
     "output_type": "stream",
     "text": [
      "zaid49118\n"
     ]
    }
   ],
   "source": [
    "#EXAMPLE 2\n",
    "# Python program to demonstrate\n",
    "# string slicing\n",
    "\n",
    "# String slicing\n",
    "email = (\"zaid49118@gmail.com\")\n",
    "username = email[0:9]\n",
    "print(username)"
   ]
  },
  {
   "cell_type": "code",
   "execution_count": 29,
   "id": "016a47b1-eb79-4208-ba15-ba1ddad00a95",
   "metadata": {},
   "outputs": [
    {
     "name": "stdout",
     "output_type": "stream",
     "text": [
      "ZAID \n"
     ]
    }
   ],
   "source": [
    "#EXAMPLE 3\n",
    "# Python program to demonstrate\n",
    "# string slicing\n",
    "\n",
    "# String slicing\n",
    "String = 'ZAID KHAN'\n",
    "\n",
    "# Using indexing sequence\n",
    "print(String[:5])# if you want to print 4 characters in string slicing.So,you have to write 5 index in code \n",
    "                 # because 5 is excluding value here. \n",
    "                 "
   ]
  },
  {
   "cell_type": "code",
   "execution_count": null,
   "id": "d9ec160d-8598-4203-b68b-fc24f2be15bf",
   "metadata": {},
   "outputs": [],
   "source": [
    "#Question_N0.2: Explain the key features of lists in Python.\n",
    "\n",
    "\n",
    "#Answer: Python lists store an ordered collection of items that can be of different types. After defining a list, it’s \n",
    "#possible to update the individual items in a list.Python lists can store an ordered collection of items, or elements, \n",
    "#of varying types. They are often used to compile multiple items into a single, mutable variable, which is helpful for \n",
    "#retrieving items, specifying outputs or performing calculations quickly. Lists are also a type of built-in data structure\n",
    "#in Python (along with tuples, sets and dictionaries), which is a specified way of storing and formatting data.\n",
    "\n",
    "# Features of Lists in Python\n",
    "#All Python lists include the following features or characteristics:\n",
    "\n",
    "# Lists are mutable and dynamic; list items can be added, removed or changed after the list is defined.\n",
    "# Lists are ordered; newly added items will be placed at the end of the list.\n",
    "# Lists use zero-based indexing; every list item has an associated index, and the first item’s index is 0.\n",
    "# Duplicated list items are allowed.\n",
    "# Lists can be nested within other lists indefinitely."
   ]
  },
  {
   "cell_type": "code",
   "execution_count": 17,
   "id": "951d186c-2127-4697-aad8-bbedd84aa49c",
   "metadata": {},
   "outputs": [
    {
     "data": {
      "text/plain": [
       "'orange'"
      ]
     },
     "execution_count": 17,
     "metadata": {},
     "output_type": "execute_result"
    }
   ],
   "source": [
    "#Question_N0.3: Describe how to access, modify, and delete elements in a last with examples.\n",
    "\n",
    "\n",
    "#Answer: # 1. Accessing Items From A List\n",
    "#Indexing and slicing are the most common means that are used to access lists. We can also access items in a list with \n",
    "#loops like the for loop.\n",
    "\n",
    "#1) Indexing\n",
    "\n",
    "#A Python list uses the zero-based numbering system. Meaning, all its items are uniquely identified by an index number \n",
    "#starting from 0 to n-1 where n is the length of the list. Python lists are ordered sequences. This allows us to use \n",
    "#indexing to access and manipulate its item easily.\n",
    "\n",
    "\n",
    "# 2. Modify And Replacing Items From A List\n",
    "#Replacing items is pretty simple. In one of the above sections, we saw indexing and slicing. These can be used to access\n",
    "#and remove items from a list.\n",
    "\n",
    "\n",
    "# 3. Removing Items From A List\n",
    "#As we can add as many items to a list, they can also be removed from a list. The three ways by which items can be removed\n",
    "#are:\n",
    "\n",
    "#a) Using the del statement\n",
    "#The target list(target_list) can be the entire list(in case you want to delete the list) or an item or items in a list\n",
    "#(in this case you use indexing or slicing)\n",
    "\n",
    "#b) Using the list.remove(x)\n",
    "#It removes the first item from the list whose value is equal to x. It raises a ValueError if there is no such item.\n",
    "\n",
    "#c) Using list.pop([i])\n",
    "#It removes and returns the item at the given position in a list object. If no i(index) is provided, it removes and returns the last item in the list.\n",
    "\n",
    "\n",
    "#Examples Of Access,Modify and Delete elements shown below:\n",
    "# 1. Indexing\n",
    "shopping_list = [\"orange\",\"papaya\",\"mango\"]\n",
    "shopping_list[0]#change the value in bracket.According to index no. to access them from list."
   ]
  },
  {
   "cell_type": "code",
   "execution_count": 25,
   "id": "722f2e97-dd7e-4392-856c-d6c00b773448",
   "metadata": {},
   "outputs": [
    {
     "data": {
      "text/plain": [
       "[2, 4, 6, 8]"
      ]
     },
     "execution_count": 25,
     "metadata": {},
     "output_type": "execute_result"
    }
   ],
   "source": [
    "# 2. Modify\n",
    "even = [2,4,6,9]\n",
    "even[3] = 8 #indexing is also use in modify to change the specific place value.\n",
    "even"
   ]
  },
  {
   "cell_type": "code",
   "execution_count": 31,
   "id": "3fe5b748-a2b3-4ef9-b6e1-d18cbf19cb50",
   "metadata": {},
   "outputs": [
    {
     "ename": "NameError",
     "evalue": "name 'order_list' is not defined",
     "output_type": "error",
     "traceback": [
      "\u001b[0;31m---------------------------------------------------------------------------\u001b[0m",
      "\u001b[0;31mNameError\u001b[0m                                 Traceback (most recent call last)",
      "Cell \u001b[0;32mIn[31], line 5\u001b[0m\n\u001b[1;32m      3\u001b[0m order_list \u001b[38;5;241m=\u001b[39m [\u001b[38;5;124m\"\u001b[39m\u001b[38;5;124mpizza\u001b[39m\u001b[38;5;124m\"\u001b[39m,\u001b[38;5;124m\"\u001b[39m\u001b[38;5;124mburger\u001b[39m\u001b[38;5;124m\"\u001b[39m,\u001b[38;5;124m\"\u001b[39m\u001b[38;5;124mpasta\u001b[39m\u001b[38;5;124m\"\u001b[39m]\n\u001b[1;32m      4\u001b[0m \u001b[38;5;28;01mdel\u001b[39;00m order_list\n\u001b[0;32m----> 5\u001b[0m order_list\n",
      "\u001b[0;31mNameError\u001b[0m: name 'order_list' is not defined"
     ]
    }
   ],
   "source": [
    "# 3. Delete \n",
    "# a) del statement\n",
    "order_list = [\"pizza\",\"burger\",\"pasta\"]\n",
    "del order_list # when you execute this code of line it show error when you input(order_list) because it completely\n",
    "order_list     #delete value.order_list "
   ]
  },
  {
   "cell_type": "code",
   "execution_count": 37,
   "id": "8be62564-b3f1-4445-a5ef-7009122401cd",
   "metadata": {},
   "outputs": [
    {
     "data": {
      "text/plain": [
       "['rice', 'wheat', 'oil']"
      ]
     },
     "execution_count": 37,
     "metadata": {},
     "output_type": "execute_result"
    }
   ],
   "source": [
    "# b) list.remove()\n",
    "grocery_list = [\"dal\",\"rice\",\"wheat\",\"oil\"]\n",
    "grocery_list.remove(\"dal\") # This method is used mostly to remove items from a list by name, unlike the del statement that uses indexing \n",
    "grocery_list               # and slicing."
   ]
  },
  {
   "cell_type": "code",
   "execution_count": 41,
   "id": "c585cda1-1fcf-4f15-b176-5331fa2ca9fb",
   "metadata": {},
   "outputs": [
    {
     "data": {
      "text/plain": [
       "['potato', 'brinjal', 'tomato']"
      ]
     },
     "execution_count": 41,
     "metadata": {},
     "output_type": "execute_result"
    }
   ],
   "source": [
    "# c) Using list.pop()\n",
    "item_list = [\"potato\",\"brinjal\",\"tomato\",\"mushroom\"]\n",
    "item_list.pop()# it automatically remove last value or element in the list.\n",
    "item_list"
   ]
  },
  {
   "cell_type": "code",
   "execution_count": 43,
   "id": "6c1dd91e-0b09-4132-a1f1-bb01c4de8f37",
   "metadata": {},
   "outputs": [
    {
     "name": "stdout",
     "output_type": "stream",
     "text": [
      "Original list  [1, 2, 4, 4, 3, 3, 3, 6, 5]\n",
      "Example to show mutability  [1, 2, 4, 77, 3, 3, 3, 6, 5]\n"
     ]
    }
   ],
   "source": [
    "#Question_N0.4: Compare and contrast tuples and lists with examples.\n",
    "\n",
    "\n",
    "#Answer: Difference Between List and Tuple in Python\n",
    "# Lists and Tuples in Python are two classes of Python Data Structures. The list structure is dynamic, and readily changed\n",
    "#whereas the tuple structure is static and cannot be changed. This means that the tuple is generally faster than the list.\n",
    "#Lists are denoted by square brackets and tuples are denoted with parenthesis.\n",
    "\n",
    "#Differences between List and Tuple in Python\n",
    "\n",
    "\n",
    "# 1.LIST\n",
    "\n",
    "# a) Lists are mutable\t\n",
    "# b)The implication of iterations is Time-consuming.\t\n",
    "# c)The list is better for performing operations, such as insertion and deletion.\t\n",
    "# d)Lists consume more memory.\t\n",
    "# e)Lists have several built-in methods.\t\n",
    "# f)Unexpected changes and errors are more likely to occur.\n",
    "\n",
    "# 2.TUPLES\n",
    "\n",
    "# a)Tuples are immutable.\n",
    "# b)The implication of iterations is comparatively Faster.\n",
    "# c)A Tuple data type is appropriate for accessing the elements.\n",
    "# d)Tuple consumes less memory as compared to the list.\n",
    "# e)Tuple does not have many built-in methods.\n",
    "# f)Because tuples don’t change they are far less error-prone.\n",
    "\n",
    "#Examples:\n",
    "\n",
    "# 1.A)\n",
    "# Creating a List with\n",
    "# the use of Numbers\n",
    "# code to test that tuples are mutable\n",
    "List = [1, 2, 4, 4, 3, 3, 3, 6, 5]\n",
    "print(\"Original list \", List)\n",
    "\n",
    "List[3] = 77\n",
    "print(\"Example to show mutability \", List)"
   ]
  },
  {
   "cell_type": "code",
   "execution_count": 45,
   "id": "5592529f-9ebd-4c4f-841a-c02b25756f78",
   "metadata": {},
   "outputs": [
    {
     "ename": "TypeError",
     "evalue": "'tuple' object does not support item assignment",
     "output_type": "error",
     "traceback": [
      "\u001b[0;31m---------------------------------------------------------------------------\u001b[0m",
      "\u001b[0;31mTypeError\u001b[0m                                 Traceback (most recent call last)",
      "Cell \u001b[0;32mIn[45], line 5\u001b[0m\n\u001b[1;32m      1\u001b[0m \u001b[38;5;66;03m# 1.B)\u001b[39;00m\n\u001b[1;32m      2\u001b[0m \u001b[38;5;66;03m# code to test that tuples are immutable\u001b[39;00m\n\u001b[1;32m      4\u001b[0m tuple1 \u001b[38;5;241m=\u001b[39m (\u001b[38;5;241m0\u001b[39m, \u001b[38;5;241m1\u001b[39m, \u001b[38;5;241m2\u001b[39m, \u001b[38;5;241m3\u001b[39m)\n\u001b[0;32m----> 5\u001b[0m tuple1[\u001b[38;5;241m0\u001b[39m] \u001b[38;5;241m=\u001b[39m \u001b[38;5;241m4\u001b[39m\n\u001b[1;32m      6\u001b[0m \u001b[38;5;28mprint\u001b[39m(tuple1)\n",
      "\u001b[0;31mTypeError\u001b[0m: 'tuple' object does not support item assignment"
     ]
    }
   ],
   "source": [
    "# 1.B)\n",
    "# code to test that tuples are immutable\n",
    "\n",
    "tuple1 = (0, 1, 2, 3)\n",
    "tuple1[0] = 4\n",
    "print(tuple1)# IT WILL GIVE ERROR BECAUSE TUPLES ARE IMMUTABLES."
   ]
  },
  {
   "cell_type": "code",
   "execution_count": 47,
   "id": "632aae54-3965-4d1e-be4c-9729607f28cd",
   "metadata": {},
   "outputs": [
    {
     "name": "stdout",
     "output_type": "stream",
     "text": [
      "[2, 3]\n",
      "(6, 7, 8)\n"
     ]
    }
   ],
   "source": [
    "# 2.Both lists and tuples allow you to extract a subset of elements using slicing.\n",
    "my_list = [1, 2, 3, 4, 5]\n",
    "my_tuple = (6, 7, 8, 9, 10)\n",
    "\n",
    "print(my_list[1:3]) # Output: [2, 3]\n",
    "print(my_tuple[:3]) # Output: (6, 7, 8)\n",
    "\n"
   ]
  },
  {
   "cell_type": "code",
   "execution_count": 3,
   "id": "3e965b67-281f-45be-9742-f30a46b98b5e",
   "metadata": {},
   "outputs": [
    {
     "name": "stdout",
     "output_type": "stream",
     "text": [
      "{'apple', 'banana', 'cherry'}\n"
     ]
    }
   ],
   "source": [
    "#Question_N0.5: Describe the key features of sets and provide examples of their use.\n",
    "\n",
    "\n",
    "#Answer: Python Set is an unordered collection of data types that is iterable, mutable, and has no duplicate\n",
    "#elements. The order of elements in a set is undefined though it may consist of various elements. The major \n",
    "#advantage of using a set, as opposed to a list, is that it has a highly optimized method for checking whether\n",
    "#a specific element is contained in the set. Here, we will see what is a set in Python and also see different \n",
    "#examples of set Python.\n",
    "\n",
    "#Creating a Set in Python\n",
    "#Python Sets can be created by using the built-in set() function with an iterable object or a sequence by placing\n",
    "#the sequence inside curly braces, separated by a ‘comma’.\n",
    "\n",
    "#Sets are used to store multiple items in a single variable.\n",
    "\n",
    "#Set is one of 4 built-in data types in Python used to store collections of data, the other 3 are List, Tuple, and \n",
    "#Dictionary, all with different qualities and usage.\n",
    "#A set is a collection which is unordered, unchangeable*, and unindexed.\n",
    "# Note: Set items are unchangeable, but you can remove items and add new items.\n",
    "# Sets are written with curly brackets.\n",
    "\n",
    "\n",
    "# Example\n",
    "#Create a Set:\n",
    "\n",
    "thisset = {\"apple\", \"banana\", \"cherry\"}\n",
    "print(thisset)\n"
   ]
  },
  {
   "cell_type": "code",
   "execution_count": 5,
   "id": "346a1ea1-908f-4810-a2df-20026adae89c",
   "metadata": {},
   "outputs": [
    {
     "name": "stdout",
     "output_type": "stream",
     "text": [
      "{'apple', 'banana', 'cherry'}\n"
     ]
    }
   ],
   "source": [
    "# Set Items\n",
    "#Set items are unordered, unchangeable, and do not allow duplicate values.\n",
    "\n",
    "# Unordered\n",
    "#Unordered means that the items in a set do not have a defined order.\n",
    "#Set items can appear in a different order every time you use them, and cannot be referred to by index or key.\n",
    "\n",
    "# Unchangeable\n",
    "#Set items are unchangeable, meaning that we cannot change the items after the set has been created.\n",
    "\n",
    "# Duplicates Not Allowed\n",
    "#Sets cannot have two items with the same value.\n",
    "\n",
    "# Example\n",
    "#Duplicate values will be ignored:\n",
    "\n",
    "thisset = {\"apple\", \"banana\", \"cherry\", \"apple\"}\n",
    "\n",
    "print(thisset) # IT WILL AUTOMATICALLY REMOVE DUPLICATE FILES. "
   ]
  },
  {
   "cell_type": "code",
   "execution_count": 7,
   "id": "d93f5e7a-bfea-42d5-9382-b57cb41a4ce5",
   "metadata": {},
   "outputs": [
    {
     "name": "stdout",
     "output_type": "stream",
     "text": [
      "{True, 2, 'apple', 'banana', 'cherry'}\n"
     ]
    }
   ],
   "source": [
    "# Example\n",
    "#True and 1 is considered the same value:\n",
    "\n",
    "thisset = {\"apple\", \"banana\", \"cherry\", True, 1, 2}\n",
    "\n",
    "print(thisset)"
   ]
  },
  {
   "cell_type": "code",
   "execution_count": 9,
   "id": "b391babe-f5ca-45bc-9f23-9999ff9acbc7",
   "metadata": {},
   "outputs": [
    {
     "name": "stdout",
     "output_type": "stream",
     "text": [
      "{False, True, 'apple', 'banana', 'cherry'}\n"
     ]
    }
   ],
   "source": [
    "# Example\n",
    "#False and 0 is considered the same value:\n",
    "\n",
    "thisset = {\"apple\", \"banana\", \"cherry\", False, True, 0}\n",
    "\n",
    "print(thisset)"
   ]
  },
  {
   "cell_type": "code",
   "execution_count": 13,
   "id": "b4b21a87-6d6d-43fc-ac4e-c1e6db12f6e3",
   "metadata": {},
   "outputs": [
    {
     "name": "stdout",
     "output_type": "stream",
     "text": [
      "{'apple', 'banana', 'cherry'} {1, 3, 5, 7, 9} {False, True}\n"
     ]
    }
   ],
   "source": [
    "# Example\n",
    "#String, int and boolean data types:\n",
    "\n",
    "set1 = {\"apple\", \"banana\", \"cherry\"}\n",
    "set2 = {1, 5, 7, 9, 3}\n",
    "set3 = {True, False, False}\n",
    "print(set1,set2,set3) # SETS CAN STORE ANY TYPE OF DATA."
   ]
  },
  {
   "cell_type": "code",
   "execution_count": 15,
   "id": "64d93e46-e6b4-4780-9fcb-ff9ae7281aa1",
   "metadata": {},
   "outputs": [
    {
     "name": "stdout",
     "output_type": "stream",
     "text": [
      "{True, 34, 'abc', 40, 'male'}\n"
     ]
    }
   ],
   "source": [
    "# Example\n",
    "#A set with strings, integers and boolean values:\n",
    "\n",
    "set1 = {\"abc\", 34, True, 40, \"male\"}\n",
    "print(set1)"
   ]
  },
  {
   "cell_type": "code",
   "execution_count": 17,
   "id": "d6214bce-d2e6-4bdb-b18d-0afa62ed8915",
   "metadata": {},
   "outputs": [],
   "source": [
    "#Question_N0.6: Discuss the use cases of tuples and sets in Python programming.\n",
    "\n",
    "\n",
    "#Answer: Python List\n",
    "# Python Lists are just like dynamic-sized arrays, declared in other languages (vector in C++ and ArrayList in Java). Lists need not be homogeneous  always which makes it the most powerful tool in Python.\n",
    "\n",
    "# Applications of Python List\n",
    "# Here are five important applications of Python lists:\n",
    "\n",
    "# 1. Data Storage and Manipulation\n",
    "\n",
    "# Application: Python lists are used to store and manipulate collections of data, whether homogeneous (e.g., all integers) or heterogeneous (e.g., a mix of integers, strings, and other types).\n",
    "# Example: A list can store a series of sensor readings, user inputs, or any other sequential data that can be modified, updated, or analyzed.\n",
    "\n",
    "# 2. Implementing Stacks and Queues\n",
    "\n",
    "# Application: Lists are commonly used to implement stacks (LIFO: Last-In, First-Out) and queues (FIFO: First-In, First-Out) due to their ability to add and remove elements from the end or beginning.\n",
    "# Example: Using append() to push onto a stack and pop() to remove the top element.\n",
    "\n",
    "# 3. Iteration and Data Processing\n",
    "\n",
    "# Application: Lists are ideal for storing data that needs to be iterated over and processed, such as reading data from files, performing computations, or generating reports.\n",
    "# Example: Iterating through a list of numbers to calculate their sum.\n",
    "\n",
    "# 4. Dynamic Arrays\n",
    "\n",
    "# Application: Lists in Python are dynamic arrays, meaning they can grow and shrink in size. This is useful in applications where the size of the dataset isn’t known in advance and needs to be adjusted dynamically.\n",
    "# Example: Collecting user inputs or dynamically generating a list of results based on computations.\n",
    "\n",
    "\n",
    "# Python Tuple\n",
    "# A Tuple is a collection of Python objects separated by commas. In some ways, a tuple is similar to a list in terms of indexing, nested objects, and repetition but a tuple is immutable, unlike lists that are mutable.\n",
    "\n",
    "# Applications of Python Tuple\n",
    "# Here are five important applications of Python tuples:\n",
    "\n",
    "# 1. Immutable Data Storage\n",
    "\n",
    "# Purpose: Tuples are immutable, meaning once created, they cannot be modified. This makes them ideal for storing data that should not change throughout the program, such as configuration settings, constants, or fixed data points.\n",
    "# Example: Storing the coordinates of a point (x, y) in a 2D space.\n",
    "\n",
    "# 2. Dictionary Keys\n",
    "\n",
    "# Purpose: Because tuples are immutable, they can be used as keys in a dictionary. This is not possible with lists, as they are mutable and hence unhashable.\n",
    "# Example: Using tuples to represent composite keys in a dictionary.\n",
    "\n",
    "# 3. Storing Heterogeneous Data\n",
    "\n",
    "# Purpose: Tuples can hold elements of different data types. This makes them useful for grouping together heterogeneous data that logically belongs together.\n",
    "# Example: Storing a person’s name, age, and email in a single tuple.\n"
   ]
  },
  {
   "cell_type": "code",
   "execution_count": 22,
   "id": "e991d834-6ebe-4872-99ca-b62dd91fc04a",
   "metadata": {},
   "outputs": [
    {
     "name": "stdout",
     "output_type": "stream",
     "text": [
      "{1: 'Geeks', 2: 'For', 3: 'Geeks'}\n"
     ]
    }
   ],
   "source": [
    "#Question_N0.7: Describe how to add, modify, and delete items in a dictionary with examples.\n",
    "\n",
    "\n",
    "#Answer: A Python dictionary is a data structure that stores the value in key: value pairs.\n",
    "\n",
    "#Example: Here, The data is stored in key: value pairs in dictionaries, which makes it easier to find values.\n",
    "\n",
    "Dict = {1: 'Geeks', 2: 'For', 3: 'Geeks'}\n",
    "print(Dict)"
   ]
  },
  {
   "cell_type": "code",
   "execution_count": 24,
   "id": "a3975ac6-69a1-4a21-abaa-eb2f92fa4f87",
   "metadata": {},
   "outputs": [
    {
     "name": "stdout",
     "output_type": "stream",
     "text": [
      "\n",
      "Dictionary with the use of Integer Keys: \n",
      "{1: 'Geeks', 2: 'For', 3: 'Geeks'}\n",
      "\n",
      "Dictionary with the use of Mixed Keys: \n",
      "{'Name': 'Geeks', 1: [1, 2, 3, 4]}\n"
     ]
    }
   ],
   "source": [
    "# 1. How to Create a Dictionary\n",
    "# In Python, a dictionary can be created by placing a sequence of elements within curly {} braces, separated by a ‘comma’. The dictionary holds pairs of values, one being the Key and the other corresponding pair element being its Key:value. Values in a dictionary can be of any data type and can be duplicated, whereas keys can’t be repeated and must be immutable.\n",
    "\n",
    "# Note – Dictionary keys are case sensitive, the same name but different cases of Key will be treated distinctly.\n",
    "\n",
    "#The code demonstrates creating dictionaries with different types of keys. The first dictionary uses integer keys, and the second dictionary uses a mix\n",
    "#of string and integer keys with corresponding values. This showcases the flexibility of Python dictionaries in handling various data types as keys.\n",
    "\n",
    "Dict = {1: 'Geeks', 2: 'For', 3: 'Geeks'}\n",
    "print(\"\\nDictionary with the use of Integer Keys: \")\n",
    "print(Dict)\n",
    "\n",
    "Dict = {'Name': 'Geeks', 1: [1, 2, 3, 4]}\n",
    "print(\"\\nDictionary with the use of Mixed Keys: \")\n",
    "print(Dict)"
   ]
  },
  {
   "cell_type": "code",
   "execution_count": 26,
   "id": "98657386-47ba-4a0a-937e-3d3d3f6a1630",
   "metadata": {},
   "outputs": [
    {
     "name": "stdout",
     "output_type": "stream",
     "text": [
      "Empty Dictionary: \n",
      "{}\n",
      "\n",
      "Dictionary after adding 3 elements: \n",
      "{0: 'Geeks', 2: 'For', 3: 1}\n",
      "\n",
      "Dictionary after adding 3 elements: \n",
      "{0: 'Geeks', 2: 'For', 3: 1, 'Value_set': (2, 3, 4)}\n",
      "\n",
      "Updated key value: \n",
      "{0: 'Geeks', 2: 'Welcome', 3: 1, 'Value_set': (2, 3, 4)}\n",
      "\n",
      "Adding a Nested Key: \n",
      "{0: 'Geeks', 2: 'Welcome', 3: 1, 'Value_set': (2, 3, 4), 5: {'Nested': {'1': 'Life', '2': 'Geeks'}}}\n"
     ]
    }
   ],
   "source": [
    "# 1. Adding Elements to a Dictionary\n",
    "#The addition of elements can be done in multiple ways. One value at a time can be added to a Dictionary by defining value along with the key e.g. Dict[Key] = ‘Value’.\n",
    "\n",
    "#Note- While adding a value, if the key-value already exists, the value gets updated otherwise a new Key with the value is added to the Dictionary.\n",
    "\n",
    "#Example: Add Items to a Python Dictionary with Different DataTypes\n",
    "\n",
    "#The code starts with an empty dictionary and then adds key-value pairs to it. It demonstrates adding elements with various data types, updating a key’s value\n",
    "#, and even nesting dictionaries within the main dictionary. The code shows how to manipulate dictionaries in Python.\n",
    "\n",
    "Dict = {}\n",
    "print(\"Empty Dictionary: \")\n",
    "print(Dict)\n",
    "Dict[0] = 'Geeks'\n",
    "Dict[2] = 'For'\n",
    "Dict[3] = 1\n",
    "print(\"\\nDictionary after adding 3 elements: \")\n",
    "print(Dict)\n",
    "\n",
    "Dict['Value_set'] = 2, 3, 4\n",
    "print(\"\\nDictionary after adding 3 elements: \")\n",
    "print(Dict)\n",
    "\n",
    "Dict[2] = 'Welcome'\n",
    "print(\"\\nUpdated key value: \")\n",
    "print(Dict)\n",
    "Dict[5] = {'Nested': {'1': 'Life', '2': 'Geeks'}}\n",
    "print(\"\\nAdding a Nested Key: \")\n",
    "print(Dict)"
   ]
  },
  {
   "cell_type": "code",
   "execution_count": 28,
   "id": "06c1d9cc-8b02-495a-aa5c-31ef0b42b839",
   "metadata": {},
   "outputs": [
    {
     "name": "stdout",
     "output_type": "stream",
     "text": [
      "Dictionary =\n",
      "{1: 'Geeks', 'name': 'For', 3: 'Geeks'}\n",
      "Data after deletion Dictionary=\n",
      "{'name': 'For', 3: 'Geeks'}\n"
     ]
    }
   ],
   "source": [
    "# 2. Deleting Elements using ‘del’ Keyword\n",
    "\n",
    "#The items of the dictionary can be deleted by using the del keyword as given below.\n",
    "\n",
    "#Example: The code defines a dictionary, prints its original content, and then uses the ‘del’ statement to delete the element associated with key 1. After deletion, it prints the updated dictionary, showing that the specified element has been removed.\n",
    "\n",
    "Dict = {1: 'Geeks', 'name': 'For', 3: 'Geeks'}\n",
    "\n",
    "print(\"Dictionary =\")\n",
    "print(Dict)\n",
    "del(Dict[1]) \n",
    "print(\"Data after deletion Dictionary=\")\n",
    "print(Dict)"
   ]
  },
  {
   "cell_type": "code",
   "execution_count": 36,
   "id": "5e4185ad-362c-4c4f-bd8d-cbd38467ce18",
   "metadata": {},
   "outputs": [
    {
     "name": "stdout",
     "output_type": "stream",
     "text": [
      "{'brand': 'Ford', 'model': 'Mustang', 'year': 2018}\n"
     ]
    }
   ],
   "source": [
    "# 3. Modify the value of Dictionaries in Python\n",
    "#You can change the value of a specific item by referring to its key name:\n",
    "\n",
    "# Example\n",
    "# Change the \"year\" to 2018:\n",
    "\n",
    "thisdict = {\n",
    "  \"brand\": \"Ford\",\n",
    "  \"model\": \"Mustang\",\n",
    "  \"year\": 1964\n",
    "}\n",
    "thisdict[\"year\"] = 2018 # you can change or modify the item in dictionary.\n",
    "print(thisdict)"
   ]
  },
  {
   "cell_type": "code",
   "execution_count": 38,
   "id": "8674aa16-7f10-4315-b121-b1f36d50a040",
   "metadata": {},
   "outputs": [
    {
     "name": "stdout",
     "output_type": "stream",
     "text": [
      "value\n",
      "unhashable type: 'list'\n"
     ]
    }
   ],
   "source": [
    "#Question_N0.8:  Discuss the importance of dictionary keys being immutable and provide examples.\n",
    "\n",
    "\n",
    "#Answer: In Python, dictionary keys must be immutable because they need to maintain a consistent hash value throughout their lifetime in the dictionary. \n",
    "#Here are the key reasons why immutability is required for dictionary keys:\n",
    "\n",
    "# 1. Hashing: Dictionaries in Python use a hash table for storage, which means that each key is processed through a hash function that generates an integer\n",
    "#(the hash value). This hash value is used to quickly locate the corresponding value in the dictionary. If a key were mutable and its contents changed, its\n",
    "#hash value would also change, leading to inconsistencies and making it impossible to find the value associated with that key.\n",
    "\n",
    "# 2. Consistency: For a key to be reliably retrievable, it must remain constant. If keys could change, it would break the fundamental property of dictionaries,\n",
    "#which is that a given key should always return the same value.\n",
    "\n",
    "# 3. Performance: The performance of dictionaries relies on the efficiency of hashing. If keys were mutable, the dictionary would have to handle the complexities\n",
    "#of tracking changes to keys, which would slow down operations like insertion, deletion, and lookup.\n",
    "\n",
    "# EXAMPLES\n",
    "#Here’s a simple example illustrating the use of an immutable key (tuple) and a mutable key (list):\n",
    "\n",
    "# Using an immutable key (tuple) \n",
    "my_dict = { (1, 2): \"value\" } \n",
    "print(my_dict[(1, 2)])  # Output: value \n",
    " \n",
    "# Attempting to use a mutable key (list) will raise an error \n",
    "try: \n",
    "    my_dict = { [1, 2]: \"value\" }  # This will raise a TypeError \n",
    "except TypeError as e: \n",
    "    print(e)  # Output: unhashable type: 'list' "
   ]
  },
  {
   "cell_type": "code",
   "execution_count": null,
   "id": "e44c66c6-ba60-4340-84e3-4dbbbfb126d0",
   "metadata": {},
   "outputs": [],
   "source": []
  }
 ],
 "metadata": {
  "kernelspec": {
   "display_name": "Python 3 (ipykernel)",
   "language": "python",
   "name": "python3"
  },
  "language_info": {
   "codemirror_mode": {
    "name": "ipython",
    "version": 3
   },
   "file_extension": ".py",
   "mimetype": "text/x-python",
   "name": "python",
   "nbconvert_exporter": "python",
   "pygments_lexer": "ipython3",
   "version": "3.12.4"
  }
 },
 "nbformat": 4,
 "nbformat_minor": 5
}
