{
 "cells": [
  {
   "cell_type": "markdown",
   "id": "b53a135c-e074-429e-991c-65fff97d5043",
   "metadata": {},
   "source": [
    "# DATA STRUCTURES_ASSIGNMENT"
   ]
  },
  {
   "cell_type": "code",
   "execution_count": 57,
   "id": "37258c54-b2fa-4f62-b943-5e7abc6b63d0",
   "metadata": {},
   "outputs": [
    {
     "name": "stdout",
     "output_type": "stream",
     "text": [
      "sllikS wP\n"
     ]
    }
   ],
   "source": [
    "#Question_N0.1: Write a code to reverse a string.\n",
    "\n",
    "\n",
    "#Answer: There is no built-in function to reverse a String in Python.\n",
    "\n",
    "# The fastest and easiest way is to use a slice method that steps backwards(-1).\n",
    "\n",
    "# Example\n",
    "#Reverse the string \"Pw Skills\":\n",
    "txt = \"Pw Skills\" [::-1] #Reverse string is occur due to slicing method by using (-1)value.\n",
    "print(txt)"
   ]
  },
  {
   "cell_type": "code",
   "execution_count": 59,
   "id": "d312f8d3-3918-4559-87ff-9df0f78e2111",
   "metadata": {},
   "outputs": [
    {
     "name": "stdout",
     "output_type": "stream",
     "text": [
      "5\n"
     ]
    }
   ],
   "source": [
    "#Question_N0.2: Write a code to count the number of vowels in a string.\n",
    "\n",
    "\n",
    "#Answer: We can also use the count() method which is an inbuilt Python method in Python for counting the item passed in the parentheses.\n",
    "         #So like this, we can also count the vowels in the string by passing the vowels in the parentheses.\n",
    "\n",
    "\n",
    "# Example\n",
    "#Counting the number of vowels in a string:\n",
    "string = \"Alakh Pandey Sir\" \n",
    "vowels = \"aeiouAEIOU\" \n",
    "count = sum(string.count(vowel) for vowel in vowels) # In this Code I used Count method to count the no. of vowels in string.\n",
    "print(count)"
   ]
  },
  {
   "cell_type": "code",
   "execution_count": 13,
   "id": "1b139545-ddee-43b1-9a48-eac6a2e4caef",
   "metadata": {},
   "outputs": [
    {
     "name": "stdout",
     "output_type": "stream",
     "text": [
      "Yes\n"
     ]
    }
   ],
   "source": [
    "#Question_N0.3: Write a code to check if a given string is a palindrone or not.\n",
    "\n",
    "\n",
    "#Answer: Methods to Check if a String is a Palindrome \n",
    "# function which return reverse of a string\n",
    "\n",
    "def isPalindrome(s):\n",
    "    return s == s[::-1]\n",
    "# Driver code\n",
    "s = \"rotator\" # Change value here see is it Palindrome or Not.\n",
    "ans = isPalindrome(s)\n",
    "\n",
    "if ans:\n",
    "    print(\"Yes\")\n",
    "else:\n",
    "    print(\"No\")"
   ]
  },
  {
   "cell_type": "code",
   "execution_count": 19,
   "id": "3f70f78a-3400-4197-bf16-9fbedf77016c",
   "metadata": {},
   "outputs": [
    {
     "name": "stdout",
     "output_type": "stream",
     "text": [
      "True\n",
      "False\n"
     ]
    }
   ],
   "source": [
    "#Question_N0.4: Write a code to check if two given strings are anagrams of each other.\n",
    "\n",
    "\n",
    "#Answer: # Function to check if two strings are anagrams\n",
    "# Example\n",
    "def are_anagrams(s1, s2):\n",
    "    # Sort both strings and compare\n",
    "    return sorted(s1) == sorted(s2)\n",
    "# Test cases\n",
    "if __name__ == \"__main__\":\n",
    "    str1 = \"listen\"\n",
    "    str2 = \"silent\"\n",
    "\n",
    "    if are_anagrams(str1, str2):   # All characters of “listen” and “silent” are the same.\n",
    "        print(\"True\")\n",
    "    else:\n",
    "        print(\"False\")\n",
    "\n",
    "    str1 = \"gram\"\n",
    "    str2 = \"arm\"\n",
    "\n",
    "    if are_anagrams(str1, str2):  # Not Anagram\n",
    "        print(\"True\")\n",
    "    else:\n",
    "        print(\"False\")"
   ]
  },
  {
   "cell_type": "code",
   "execution_count": 31,
   "id": "f354ed8d-d79b-4385-afe4-cb037e9439e2",
   "metadata": {},
   "outputs": [
    {
     "name": "stdout",
     "output_type": "stream",
     "text": [
      "0 7 "
     ]
    }
   ],
   "source": [
    "#Question_N0.5: Write a code to find all occurrences of a given substring within another strings.\n",
    "\n",
    "\n",
    "#Answer: # Python program to find indices of all\n",
    "# occurrences of one String in other.\n",
    "def printIndex(str, s):\n",
    "\n",
    "    flag = False\n",
    "    for i in range(len(str)):\n",
    "        if (str[i:i + len(s)] == s):\n",
    "\n",
    "            print(i, end=\" \")\n",
    "            flag = True\n",
    "\n",
    "    if (flag == False):\n",
    "        print(\"NONE\")\n",
    "\n",
    "\n",
    "# Driver code\n",
    "str1 = \"zaidforzaid\"\n",
    "str2 = \"zaid\"\n",
    "printIndex(str1, str2)"
   ]
  },
  {
   "cell_type": "code",
   "execution_count": 35,
   "id": "0d62a1b5-0332-4532-aaeb-34071ffc90a6",
   "metadata": {},
   "outputs": [
    {
     "name": "stdout",
     "output_type": "stream",
     "text": [
      "ab3a6c2da3b\n"
     ]
    }
   ],
   "source": [
    "#Question_N0.6: Write a code to perform basic string compression using the counts of repeated characters.\n",
    "\n",
    "\n",
    "#Answer: Let us see the following implementation to see basic string compression using the count of repeated characters:−\n",
    "def solve(s):\n",
    "   res = \"\"\n",
    "   cnt = 1\n",
    "   for i in range(1, len(s)):\n",
    "      if s[i - 1] == s[i]:\n",
    "         cnt += 1\n",
    "      else:\n",
    "         res = res + s[i - 1]\n",
    "         if cnt > 1:\n",
    "            res += str(cnt)\n",
    "         cnt = 1\n",
    "   res = res + s[-1]\n",
    "   if cnt > 1:\n",
    "      res += str(cnt)\n",
    "   return res\n",
    "\n",
    "s = \"abbbaaaaaaccdaaab\"\n",
    "print(solve(s))"
   ]
  },
  {
   "cell_type": "code",
   "execution_count": 41,
   "id": "f80fe4c3-1fb3-460e-9aeb-c7fed68212b9",
   "metadata": {},
   "outputs": [
    {
     "name": "stdout",
     "output_type": "stream",
     "text": [
      "True\n"
     ]
    }
   ],
   "source": [
    "#Question_N0.7: Write a code to determine if a string has all unique characters.\n",
    "\n",
    "\n",
    "#Answer: One solution is to create an array of boolean values, where the flag at the index i indicates whether character i in the alphabet\n",
    "#is contained in the string. The second time you see this character you can immediately return false. \n",
    "#You can also return false if the string length exceeds the number of unique characters in the alphabet.  \n",
    "def isUniqueChars(st):\n",
    " \n",
    "    # String length cannot be more than\n",
    "    # 256.\n",
    "    if len(st) > 256:\n",
    "        return False\n",
    " \n",
    "    # Initialize occurrences of all characters\n",
    "    char_set = [False] * 128\n",
    " \n",
    "    # For every character, check if it exists\n",
    "    # in char_set\n",
    "    for i in range(0, len(st)):\n",
    " \n",
    "        # Find ASCII value and check if it\n",
    "        # exists in set.\n",
    "        val = ord(st[i])\n",
    "        if char_set[val]:\n",
    "            return False\n",
    " \n",
    "        char_set[val] = True\n",
    " \n",
    "    return True\n",
    " \n",
    "# driver code\n",
    "st = \"abcd\" # From this string it determine as it contain all unique characters.\n",
    "print(isUniqueChars(st))"
   ]
  },
  {
   "cell_type": "code",
   "execution_count": 7,
   "id": "b43c87d5-c42d-4f3f-bee5-4b9492953bfe",
   "metadata": {},
   "outputs": [
    {
     "name": "stdout",
     "output_type": "stream",
     "text": [
      "HELLO, MUHAMMED ZAID!\n"
     ]
    }
   ],
   "source": [
    "#Question_N0.8: Write a code to convert a given string to uppercase or lowercase.\n",
    "\n",
    "\n",
    "#Answer: For Uppercase Letters-\n",
    "str1 = 'Hello, muhammed zaid!'\n",
    "print(str1.upper())"
   ]
  },
  {
   "cell_type": "code",
   "execution_count": 9,
   "id": "327a2627-fcca-4a6e-ae2f-492b357d4c07",
   "metadata": {},
   "outputs": [
    {
     "name": "stdout",
     "output_type": "stream",
     "text": [
      "hello, muhammed zaid!\n"
     ]
    }
   ],
   "source": [
    "# For Lowercase Letters-\n",
    "str2 = 'HELLO, MUHAMMED ZAID!'\n",
    "print(str1.lower())"
   ]
  },
  {
   "cell_type": "code",
   "execution_count": 27,
   "id": "f7e44c56-e50f-4bdc-b98b-c4c7b724511c",
   "metadata": {},
   "outputs": [
    {
     "name": "stdout",
     "output_type": "stream",
     "text": [
      "9\n"
     ]
    }
   ],
   "source": [
    "#Question_N0.9: Write a code to count the number of words in a string.\n",
    "\n",
    "\n",
    "#Answer: Counting the number of words in a string-\n",
    "string = \"Pwskillls\"\n",
    "print(len(string))"
   ]
  },
  {
   "cell_type": "code",
   "execution_count": 39,
   "id": "b0ab2dc3-4b0b-40cf-b696-0b282188d122",
   "metadata": {},
   "outputs": [
    {
     "name": "stdout",
     "output_type": "stream",
     "text": [
      "I am study at Pwskills\n",
      "The new combined string is: I am study  at Pwskills\n"
     ]
    }
   ],
   "source": [
    "#Question_N0.10: Write a code to concatenate two strings without using the + operator.\n",
    "\n",
    "\n",
    "#Answer: Using join() method,We are able to concatenate two strings without using + operator-\n",
    "# Two string concatenation using Python program  \n",
    "# Initialisation of two strings      \n",
    "str1 = \"I am study\"    \n",
    "str2 = \" at Pwskills\"    \n",
    "    \n",
    "# join() method is used to combine the strings    \n",
    "print(\"\".join([str1, str2]))    \n",
    "    \n",
    "# join() method is used to combine    \n",
    "# the string with a separator Space(\" \")    \n",
    "str3 = \" \".join([str1, str2])    \n",
    "    \n",
    "print(\"The new combined string is:\",str3)    "
   ]
  },
  {
   "cell_type": "code",
   "execution_count": 51,
   "id": "118a3d75-d084-44c6-bdc8-a1c4ca43b721",
   "metadata": {},
   "outputs": [
    {
     "name": "stdout",
     "output_type": "stream",
     "text": [
      "[1, 3, 6, 5, 1, 1, 1]\n"
     ]
    }
   ],
   "source": [
    "#Question_N0.11: Write a code to remove all occurrences of a specific element from a list.\n",
    "\n",
    "\n",
    "#Answer: Remove Occurrences of an specific item Using replace()-\n",
    "#remove all occurrences of element in list \n",
    "test_list = [1, 3, 4, 6, 5, 1,1,1,4] \n",
    "ele=4\n",
    "a=list(map(str,test_list))  # You can change value in test_list or ele to see remove all occurrences of a specific element from a list.\n",
    "b=\" \".join(a) \n",
    "b=b.replace(str(ele),\"\") \n",
    "b=b.split() \n",
    "x=list(map(int,b)) \n",
    "print(x)"
   ]
  },
  {
   "cell_type": "code",
   "execution_count": 55,
   "id": "c3f40743-6113-4bbc-a1fa-8fc92cedc16a",
   "metadata": {},
   "outputs": [
    {
     "name": "stdout",
     "output_type": "stream",
     "text": [
      "The second largest number is: 99\n"
     ]
    }
   ],
   "source": [
    "#Question_N0.12:  Implement a code to find the second largest number in a given list of integers.\n",
    "\n",
    "\n",
    "#Answer: Given a list of numbers, the task is to write a Python program to find the second largest number in the given list in Python.\n",
    "def find_second_largest(numbers):\n",
    "    return sorted(set(numbers))[-2]\n",
    "\n",
    "# Example usage\n",
    "numbers = [10, 20, 4, 45, 99,101]\n",
    "print(\"The second largest number is:\", find_second_largest(numbers))"
   ]
  },
  {
   "cell_type": "code",
   "execution_count": 2,
   "id": "aa29601a-03de-43dd-ba3b-a21c60855e7e",
   "metadata": {},
   "outputs": [
    {
     "name": "stdout",
     "output_type": "stream",
     "text": [
      " 1 :  5\n",
      " 5 :  2\n",
      " 3 :  3\n",
      " 4 :  3\n",
      " 2 :  4\n"
     ]
    }
   ],
   "source": [
    "#Question_N0.13: Create a code to count the occurrences of each element in a list and return a dictionary with elements as\n",
    "#keys and their counts as values.\n",
    "\n",
    "\n",
    "#Answer: Count the frequencies in a list using  list.count()-\n",
    "import operator\n",
    "\n",
    "\n",
    "def CountFrequency(my_list):\n",
    "\n",
    "\t# Creating an empty dictionary\n",
    "\tfreq = {}\n",
    "\tfor items in my_list:\n",
    "\t\tfreq[items] = my_list.count(items)\n",
    "\n",
    "\tfor key, value in freq.items():\n",
    "\t\tprint(\"% d : % d\" % (key, value))\n",
    "\n",
    "\n",
    "# Driver function\n",
    "if __name__ == \"__main__\":\n",
    "\tmy_list = [1, 1, 1, 5, 5, 3, 1, 3, 3, 1, 4, 4, 4, 2, 2, 2, 2]\n",
    "\tCountFrequency(my_list)"
   ]
  },
  {
   "cell_type": "code",
   "execution_count": 12,
   "id": "31512a16-967a-48bd-a0de-a75b1bfaf93c",
   "metadata": {},
   "outputs": [
    {
     "name": "stdout",
     "output_type": "stream",
     "text": [
      "[9, 8, 7, 6, 5, 4, 3, 2, 1]\n"
     ]
    }
   ],
   "source": [
    "#Question_N0.14:  Write a code to reverse a list in-place without using any built-in reverse functions.\n",
    "\n",
    "\n",
    "#Answer: Another efficient way to reverse a list is by using list slicing. This method creates a new \n",
    "#list that contains the elements of the original list in reverse order.\n",
    "a = [1, 2, 3, 4, 5, 6, 7, 8, 9]\n",
    "\n",
    "# Create a new list that is a reversed list\n",
    "# of 'a' using slicing\n",
    "rev = a[::-1]\n",
    "\n",
    "print(rev)"
   ]
  },
  {
   "cell_type": "code",
   "execution_count": 40,
   "id": "90abbbe7-1ee1-4507-991b-9f47e8142420",
   "metadata": {},
   "outputs": [
    {
     "name": "stdout",
     "output_type": "stream",
     "text": [
      "Original List: [1, 2, 3, 4, 2, 1, 5, 6, 4]\n",
      "Update List: [1, 2, 3, 4, 5, 6]\n"
     ]
    }
   ],
   "source": [
    "# Question_N0.15: Implement a code to find and remove duplicates from a list while preserving the original order of elements.\n",
    "\n",
    "# Answer: Remove Duplicates And Keep The Order Using Loop\n",
    "original_list = [1, 2, 3, 4, 2, 1, 5, 6, 4]\n",
    "print(\"Original List:\", original_list)\n",
    "\n",
    "unique_list = []\n",
    "for x in original_list:\n",
    "    if x not in unique_list:\n",
    "        unique_list.append(x)\n",
    "print(\"Update List:\", unique_list)  "
   ]
  },
  {
   "cell_type": "code",
   "execution_count": 20,
   "id": "9af9fe2d-9bd6-40b3-ae0a-1b8e9a405e45",
   "metadata": {},
   "outputs": [],
   "source": [
    "# Question_N0.16: Create a code to check if a given list is sorted (either in ascending or descending order) or not.\n",
    "\n",
    "\n",
    "# Answer:-\n",
    "def is_sorted(check):\n",
    "    asc = desc = True\n",
    "    i, L = 0, len(check)\n",
    "    while (i < (L-1)) and (asc or desc):\n",
    "        if check[i] < check[i+1]:\n",
    "            desc = False\n",
    "        elif check[i] > check[i+1]:\n",
    "            asc = False\n",
    "        if not (asc or desc):\n",
    "            break\n",
    "        i += 1\n",
    "    if asc and desc:\n",
    "        return \"Ascending and Descending\"\n",
    "    elif asc:\n",
    "        return \"Ascending\"\n",
    "    elif desc:\n",
    "        return \"Descending\"\n",
    "    else:\n",
    "        return \"Not ascending and not descending\""
   ]
  },
  {
   "cell_type": "code",
   "execution_count": 22,
   "id": "da895b75-3bcf-400e-bebc-89db9e9fcf3a",
   "metadata": {},
   "outputs": [
    {
     "name": "stdout",
     "output_type": "stream",
     "text": [
      "Ascending\n",
      "Descending\n",
      "Not ascending and not descending\n",
      "Ascending and Descending\n"
     ]
    }
   ],
   "source": [
    "#Testing Code:-\n",
    "print (is_sorted([1, 2, 3]))   # Ascending order\n",
    "print (is_sorted([3, 2, 1]))   # Descending order\n",
    "print (is_sorted([1, 2, 3, 2, 1])) # Not Ascending and Not Descending\n",
    "print (is_sorted([1, 1, 1]))       # Ascending and Descending"
   ]
  },
  {
   "cell_type": "code",
   "execution_count": 2,
   "id": "4ec25bf1-0d2a-449c-94ed-7a653f2ace80",
   "metadata": {},
   "outputs": [
    {
     "name": "stdout",
     "output_type": "stream",
     "text": [
      "The original list 1 is : [1, 5, 6, 9, 11]\n",
      "The original list 2 is : [3, 4, 7, 8, 10]\n",
      "The combined sorted list is : [1, 3, 4, 5, 6, 7, 8, 9, 10, 11]\n"
     ]
    }
   ],
   "source": [
    "# Question_N0.17: Write a code to merge two sorted lists into a single sorted list.\n",
    "\n",
    "\n",
    "# Answer: Using extend() and sort() methods-\n",
    "# Python code to demonstrate\n",
    "# to combine two sorted list\n",
    "\n",
    "# initializing lists\n",
    "test_list1 = [1, 5, 6, 9, 11]\n",
    "test_list2 = [3, 4, 7, 8, 10]\n",
    "\n",
    "# printing original lists\n",
    "print(\"The original list 1 is : \" + str(test_list1))\n",
    "print(\"The original list 2 is : \" + str(test_list2))\n",
    "\n",
    "test_list1.extend(test_list2)\n",
    "test_list1.sort()\n",
    "\n",
    "# printing result\n",
    "print(\"The combined sorted list is : \" + str(test_list1))\n"
   ]
  },
  {
   "cell_type": "code",
   "execution_count": 4,
   "id": "7d6ce905-29de-4ca7-b921-fc31fe76b666",
   "metadata": {},
   "outputs": [
    {
     "name": "stdout",
     "output_type": "stream",
     "text": [
      "[90, 11, 58, 31, 66, 28, 54]\n"
     ]
    }
   ],
   "source": [
    "# Question_N0.18: Implement a code to find the intersection of two given lists.\n",
    "\n",
    "\n",
    "# Answer: Using for loop:-\n",
    "# Python program to get the intersection  \n",
    "# of two lists in most simple way  \n",
    "def intersection_list(list1, list2):  \n",
    "   list3 = [value for value in list1 if value in list2]  \n",
    "   return list3  \n",
    "  \n",
    "# Change the value of list 1 & 2 to see variables intersection.\n",
    "list1 = [40, 90, 11, 58, 31, 66, 28, 54, 79]  \n",
    "list2 = [58, 90, 54, 31, 45, 11, 66, 28, 26]  \n",
    "print(intersection_list(list1, list2))  "
   ]
  },
  {
   "cell_type": "code",
   "execution_count": 8,
   "id": "b3843976-1f75-4214-bb1b-bdde839a02fa",
   "metadata": {},
   "outputs": [
    {
     "name": "stdout",
     "output_type": "stream",
     "text": [
      "The resultant merged list is\n",
      "[65, 1, 67, 8, 45, 23, 89, 90, 31]\n"
     ]
    }
   ],
   "source": [
    "# Question_N0.19: Create a code to find the union of two lists without duplicates.\n",
    "\n",
    "\n",
    "# Answer: Python Merge Two Lists Without Duplicates Using list() Method:-\n",
    "list1 = [23, 45, 65, 31, 1, 89]\n",
    "list2 = [67, 89, 23, 45, 8, 90]\n",
    "\n",
    "# Resultant list\n",
    "ans = list(set(list1 + list2))\n",
    "\n",
    "print(\"The resultant merged list is\")  \n",
    "print(ans)"
   ]
  },
  {
   "cell_type": "code",
   "execution_count": 14,
   "id": "42fa1d10-6699-4516-86b4-b4a0107f7fd5",
   "metadata": {},
   "outputs": [
    {
     "name": "stdout",
     "output_type": "stream",
     "text": [
      "Original list: [1, 2, 3, 4, 5]\n",
      "Shuffled list: [1, 5, 2, 4, 3]\n"
     ]
    }
   ],
   "source": [
    "# Question_N0.20: Write a code to shuffle a given list randomly without using inbuilt-in shuffle functions.\n",
    "\n",
    "\n",
    "# Answer: Random Shuffle a List using sorted():-\n",
    "import random\n",
    "\n",
    "my_list = [1, 2, 3, 4, 5]\n",
    "\n",
    "shuffled_list = sorted(my_list, key=lambda x: random.random())\n",
    "\n",
    "print(\"Original list:\", my_list)\n",
    "print(\"Shuffled list:\", shuffled_list)"
   ]
  },
  {
   "cell_type": "code",
   "execution_count": 6,
   "id": "318eaa8d-8800-4600-b2f8-ca72eb1f9c35",
   "metadata": {},
   "outputs": [
    {
     "name": "stdout",
     "output_type": "stream",
     "text": [
      "{9, 10, ('m', 'v')}\n"
     ]
    }
   ],
   "source": [
    "# Question_N0.21: Write a code that takes two tuples as input and returns a new tuple containing elements that are common to both input tuples.\n",
    "\n",
    "\n",
    "# Answer: Finding common elements from two tuples in Python:-\n",
    "tpl1=(4,'v',(1,3),9,8,10,('m','v')) \n",
    "tpl2=(7,6,(3,1),5,9,10,('m','v'))\n",
    "#At first, create a variable that will hold the objects or elements of the first tuple.\n",
    "#Then create another variable that will hold elements of the second tuple.\n",
    "tpl1_set=set(tpl1)\n",
    "tpl2_set=set(tpl2)\n",
    "#we have a method(function) set() which is the collection of iterable and mutable data types with no duplicate elements.\n",
    "#Now we pass both tuples in function set() and store the result in two variables.\n",
    "commonElement=(tpl1_set & tpl2_set)\n",
    "print(commonElement)"
   ]
  },
  {
   "cell_type": "code",
   "execution_count": 3,
   "id": "ead12dbf-9afa-4239-8b0d-e68e5aa9061d",
   "metadata": {},
   "outputs": [
    {
     "name": "stdin",
     "output_type": "stream",
     "text": [
      "Enter the first set of integers separated by commas:  1,2,3,4,5\n",
      "Enter the second set of integers separated by commas:  4,5,6,7,8\n"
     ]
    },
    {
     "name": "stdout",
     "output_type": "stream",
     "text": [
      "The intersection of the two sets is: {4, 5}\n"
     ]
    }
   ],
   "source": [
    "# Question_N0.22: Create a code that prompts the user to enter two sets of integers separated by commas. Then, print the intersection of there two sets.\n",
    "\n",
    "\n",
    "# Answer: Here's a code that prompts the user to enter two sets of integers separated by commas and then prints the intersection of those two sets:-\n",
    "# Prompt the user to enter two sets of integers\n",
    "set1_input = input(\"Enter the first set of integers separated by commas: \")\n",
    "set2_input = input(\"Enter the second set of integers separated by commas: \")\n",
    "\n",
    "# Convert the input strings into sets of integers\n",
    "set1 = set(map(int, set1_input.split(',')))  # Split by commas and convert to integers\n",
    "set2 = set(map(int, set2_input.split(',')))  # Split by commas and convert to integers\n",
    "\n",
    "# Calculate the intersection of the two sets\n",
    "intersection = set1.intersection(set2)\n",
    "\n",
    "# Print the intersection\n",
    "print(\"The intersection of the two sets is:\", intersection)"
   ]
  },
  {
   "cell_type": "code",
   "execution_count": 5,
   "id": "b0329928-e2c3-4f0e-933d-cfdb6dd212fa",
   "metadata": {},
   "outputs": [
    {
     "name": "stdout",
     "output_type": "stream",
     "text": [
      "The concatenated tuple is: (1, 2, 3, 4, 5, 6)\n"
     ]
    }
   ],
   "source": [
    "# Question_N0.23: Write a code to concatenate two tuples. The function should take two tuple as input and return a new tuple containing elemens from both input tuples.\n",
    "\n",
    "\n",
    "# Answer: Here's a code that defines a function to concatenate two tuples. The function takes two tuples as input and returns a new tuple \n",
    "#containing elements from both input tuples:-\n",
    "def concatenate_tuples(tuple1, tuple2):\n",
    "    # Concatenate the two tuples\n",
    "    result = tuple1 + tuple2\n",
    "    return result\n",
    "\n",
    "# Example usage\n",
    "tuple1 = (1, 2, 3)\n",
    "tuple2 = (4, 5, 6)\n",
    "\n",
    "# Call the function and print the result\n",
    "concatenated_tuple = concatenate_tuples(tuple1, tuple2)\n",
    "print(\"The concatenated tuple is:\", concatenated_tuple)"
   ]
  },
  {
   "cell_type": "code",
   "execution_count": 9,
   "id": "810aa813-3350-4f3a-b053-b8e8499ab4f2",
   "metadata": {},
   "outputs": [
    {
     "name": "stdin",
     "output_type": "stream",
     "text": [
      "Enter the first set of strings separated by commas:  apple,cherry,banana,mango\n",
      "Enter the second set of strings separated by commas:  apple,banana,orange,watermelon\n"
     ]
    },
    {
     "name": "stdout",
     "output_type": "stream",
     "text": [
      "Elements in the first set but not in the second set: {'mango', 'cherry'}\n"
     ]
    }
   ],
   "source": [
    "# Question_N0.24: Develop a code that prompts the user to input two sets of strings. \n",
    "#Then ,print the elements that are present in the first set but not in the second set.\n",
    "\n",
    "\n",
    "# Answer: Here's a code snippet that prompts the user to input two sets of strings and then prints the elements that are present\n",
    "#in the first set but not in the second set:-\n",
    "# Prompt the user to enter two sets of strings\n",
    "set1_input = input(\"Enter the first set of strings separated by commas: \")\n",
    "set2_input = input(\"Enter the second set of strings separated by commas: \")\n",
    "\n",
    "# Convert the input strings into sets of strings\n",
    "set1 = set(set1_input.split(','))  # Split by commas to create a set\n",
    "set2 = set(set2_input.split(','))  # Split by commas to create a set\n",
    "\n",
    "# Calculate the difference: elements in set1 but not in set2\n",
    "difference = set1.difference(set2)\n",
    "\n",
    "# Print the elements that are in the first set but not in the second set\n",
    "print(\"Elements in the first set but not in the second set:\", difference)"
   ]
  },
  {
   "cell_type": "code",
   "execution_count": 11,
   "id": "bf882ce3-bd6d-4af2-890a-005cfb54201e",
   "metadata": {},
   "outputs": [
    {
     "name": "stdout",
     "output_type": "stream",
     "text": [
      "The sliced tuple is: (30, 40, 50)\n"
     ]
    }
   ],
   "source": [
    "# Question_N0.25: Create a code that takes a tuple and two integers as input. The function should return a new tuple\n",
    "#containing elements from the original tuple within the specified range of indices.\n",
    "\n",
    "\n",
    "# Answer: Here's a code snippet that defines a function to take a tuple and two integers as input, and then returns a new tuple \n",
    "#containing elements from the original tuple within the specified range of indices:-\n",
    "def slice_tuple(original_tuple, start_index, end_index):\n",
    "    # Return a new tuple containing elements from the specified range of indices\n",
    "    return original_tuple[start_index:end_index]\n",
    "\n",
    "# Example usage\n",
    "input_tuple = (10, 20, 30, 40, 50, 60, 70)\n",
    "start = 2  # Starting index\n",
    "end = 5    # Ending index (exclusive)\n",
    "\n",
    "# Call the function and print the result\n",
    "sliced_tuple = slice_tuple(input_tuple, start, end)\n",
    "print(\"The sliced tuple is:\", sliced_tuple)"
   ]
  },
  {
   "cell_type": "code",
   "execution_count": 16,
   "id": "96395b1d-d12c-4025-acee-ef68099ec1bc",
   "metadata": {},
   "outputs": [
    {
     "name": "stdin",
     "output_type": "stream",
     "text": [
      "Enter the first set of characters separated by commas:  Zaid,Khan\n",
      "Enter the second set of characters separated by commas:  Zubaid,Khan\n"
     ]
    },
    {
     "name": "stdout",
     "output_type": "stream",
     "text": [
      "The union of the two sets is: {'Zaid', 'Zubaid', 'Khan'}\n"
     ]
    }
   ],
   "source": [
    "# Question_N0.26: Write a code that prompts the user to input two sets of characters. Then print the union of these two sets.\n",
    "\n",
    "\n",
    "# Answer: Here's a code snippet that prompts the user to input two sets of characters and then prints the union of those two sets:-\n",
    "# Prompt the user to enter two sets of characters\n",
    "set1_input = input(\"Enter the first set of characters separated by commas: \")\n",
    "set2_input = input(\"Enter the second set of characters separated by commas: \")\n",
    "\n",
    "# Convert the input strings into sets of characters\n",
    "set1 = set(set1_input.split(','))  # Split by commas to create a set\n",
    "set2 = set(set2_input.split(','))  # Split by commas to create a set\n",
    "\n",
    "# Calculate the union of the two sets\n",
    "union_set = set1.union(set2)\n",
    "\n",
    "# Print the union of the two sets\n",
    "print(\"The union of the two sets is:\", union_set)"
   ]
  },
  {
   "cell_type": "code",
   "execution_count": 18,
   "id": "56160807-d4c8-4025-ad70-2c0f939e1110",
   "metadata": {},
   "outputs": [
    {
     "name": "stdout",
     "output_type": "stream",
     "text": [
      "Minimum value: 5\n",
      "Maximum value: 40\n"
     ]
    }
   ],
   "source": [
    "# Question_N0.27:  Develop a code that takes a tuple of integers as input. The function should return the minimum and\n",
    "#minimum values from the tuple using tuple unpacking.\n",
    "\n",
    "\n",
    "# Answer: Here's a code that defines a function to take a tuple of integers as input and returns the minimum and maximum values from the tuple\n",
    "#using tuple unpacking:-\n",
    "def min_max_tuple(input_tuple):\n",
    "    # Calculate the minimum and maximum values\n",
    "    min_value = min(input_tuple)\n",
    "    max_value = max(input_tuple)\n",
    "    \n",
    "    # Return the minimum and maximum values as a tuple\n",
    "    return min_value, max_value  # Tuple unpacking\n",
    "\n",
    "# Example usage\n",
    "input_tuple = (10, 20, 5, 40, 15)\n",
    "\n",
    "# Call the function and unpack the results\n",
    "minimum, maximum = min_max_tuple(input_tuple)\n",
    "\n",
    "# Print the results\n",
    "print(\"Minimum value:\", minimum)\n",
    "print(\"Maximum value:\", maximum)"
   ]
  },
  {
   "cell_type": "code",
   "execution_count": 20,
   "id": "b841c56c-645b-4e63-9cc6-59c5dc39ec8b",
   "metadata": {},
   "outputs": [
    {
     "name": "stdout",
     "output_type": "stream",
     "text": [
      "Set 1: {1, 2, 3, 4, 5}\n",
      "Set 2: {4, 5, 6, 7, 8}\n",
      "Union of the two sets: {1, 2, 3, 4, 5, 6, 7, 8}\n",
      "Intersection of the two sets: {4, 5}\n",
      "Difference (Set 1 - Set 2): {1, 2, 3}\n"
     ]
    }
   ],
   "source": [
    "# Question_N0.28:  Create a code that defines two sets of integers. Then print the union intersection and difference of these two sets.\n",
    "\n",
    "\n",
    "# Answer: Here's a code that defines two sets of integers and then prints the union, intersection, and difference of these two sets:-\n",
    "# Define two sets of integers\n",
    "set1 = {1, 2, 3, 4, 5}\n",
    "set2 = {4, 5, 6, 7, 8}\n",
    "\n",
    "# Calculate the union of the two sets\n",
    "union_set = set1.union(set2)\n",
    "\n",
    "# Calculate the intersection of the two sets\n",
    "intersection_set = set1.intersection(set2)\n",
    "\n",
    "# Calculate the difference (elements in set1 but not in set2)\n",
    "difference_set = set1.difference(set2)\n",
    "\n",
    "# Print the results\n",
    "print(\"Set 1:\", set1)\n",
    "print(\"Set 2:\", set2)\n",
    "print(\"Union of the two sets:\", union_set)\n",
    "print(\"Intersection of the two sets:\", intersection_set)\n",
    "print(\"Difference (Set 1 - Set 2):\", difference_set)"
   ]
  },
  {
   "cell_type": "code",
   "execution_count": 22,
   "id": "c0c504d5-1804-4d52-91b9-31f9a813ba1a",
   "metadata": {},
   "outputs": [
    {
     "name": "stdout",
     "output_type": "stream",
     "text": [
      "The element 2 occurs 3 times in the tuple.\n"
     ]
    }
   ],
   "source": [
    "# Question_N0.29: Write a code that takes a tuple and an element as input. The function should return the count of occurrences of the given \n",
    "#element in the tuple.\n",
    "\n",
    "# Answer: Here's a code snippet that defines a function to take a tuple and an element as input, and then returns the count of occurrences\n",
    "#of the given element in the tuple:-\n",
    "def count_occurrences(input_tuple, element):\n",
    "    # Return the count of occurrences of the element in the tuple\n",
    "    return input_tuple.count(element)\n",
    "\n",
    "# Example usage\n",
    "input_tuple = (1, 2, 3, 4, 2, 5, 2)\n",
    "element_to_count = 2\n",
    "\n",
    "# Call the function and print the result\n",
    "occurrences = count_occurrences(input_tuple, element_to_count)\n",
    "print(f\"The element {element_to_count} occurs {occurrences} times in the tuple.\")"
   ]
  },
  {
   "cell_type": "code",
   "execution_count": 24,
   "id": "670c7f7a-5c28-4c07-8153-33544d9e4e59",
   "metadata": {},
   "outputs": [
    {
     "name": "stdin",
     "output_type": "stream",
     "text": [
      "Enter the first set of strings separated by commas:  1,2,3,4\n",
      "Enter the second set of strings separated by commas:  4,5,6,7\n"
     ]
    },
    {
     "name": "stdout",
     "output_type": "stream",
     "text": [
      "The symmetric difference of the two sets is: {'6', '1', '5', '2', '3', '7'}\n"
     ]
    }
   ],
   "source": [
    "# Question_N0.30: Develop a code that prompts the user to input two sets of strings. Then print the symmetric difference of\n",
    "#these two sets.\n",
    "\n",
    "\n",
    "# Answer: Here's a code that prompts the user to input two sets of strings and then prints the symmetric difference of those two sets:-\n",
    "# Prompt the user to enter two sets of strings\n",
    "set1_input = input(\"Enter the first set of strings separated by commas: \")\n",
    "set2_input = input(\"Enter the second set of strings separated by commas: \")\n",
    "\n",
    "# Convert the input strings into sets of strings\n",
    "set1 = set(set1_input.split(','))  # Split by commas to create a set\n",
    "set2 = set(set2_input.split(','))  # Split by commas to create a set\n",
    "\n",
    "# Calculate the symmetric difference of the two sets\n",
    "symmetric_difference = set1.symmetric_difference(set2)\n",
    "\n",
    "# Print the symmetric difference of the two sets\n",
    "print(\"The symmetric difference of the two sets is:\", symmetric_difference)"
   ]
  },
  {
   "cell_type": "code",
   "execution_count": 26,
   "id": "ac4ea470-4d2f-4768-8475-ab0713d837ba",
   "metadata": {},
   "outputs": [
    {
     "name": "stdin",
     "output_type": "stream",
     "text": [
      "Enter a list of words separated by spaces:  apple,mango,banana,coconut\n"
     ]
    },
    {
     "name": "stdout",
     "output_type": "stream",
     "text": [
      "Word frequencies: {'apple,mango,banana,coconut': 1}\n"
     ]
    }
   ],
   "source": [
    "# Question_N0.31: Write a code that takes a list of words as input and returns a dictionars where the keys are unique words\n",
    "#and the values are the frequencies of those words in the input list.\n",
    "\n",
    "\n",
    "# Answer: Here's a code that takes a list of words as input and returns a dictionary where the keys are unique words and the values are the\n",
    "#frequencies of those words in the input list:-\n",
    "def word_frequencies(word_list):\n",
    "    # Create an empty dictionary to store word frequencies\n",
    "    frequency_dict = {}\n",
    "    \n",
    "    # Iterate through each word in the list\n",
    "    for word in word_list:\n",
    "        # If the word is already in the dictionary, increment its count\n",
    "        if word in frequency_dict:\n",
    "            frequency_dict[word] += 1\n",
    "        else:\n",
    "            # If the word is not in the dictionary, add it with a count of 1\n",
    "            frequency_dict[word] = 1\n",
    "            \n",
    "    return frequency_dict\n",
    "\n",
    "# Example usage\n",
    "input_words = input(\"Enter a list of words separated by spaces: \").split()\n",
    "\n",
    "# Call the function and print the result\n",
    "frequencies = word_frequencies(input_words)\n",
    "print(\"Word frequencies:\", frequencies)"
   ]
  },
  {
   "cell_type": "code",
   "execution_count": 28,
   "id": "df072778-76b7-4ede-ba69-51c87192966b",
   "metadata": {},
   "outputs": [
    {
     "name": "stdout",
     "output_type": "stream",
     "text": [
      "Merged dictionary: {'a': 1, 'b': 5, 'c': 7, 'd': 5}\n"
     ]
    }
   ],
   "source": [
    "# Question_N0.32: Write a code that takes two dictionaries as input and merges them into a single dictionary. If there are\n",
    "#common keys the values should be added together.\n",
    "\n",
    "\n",
    "# Answer: Here's a code that takes two dictionaries as input and merges them into a single dictionary. If there are common keys, \n",
    "#the values are added together:-\n",
    "def merge_dictionaries(dict1, dict2):\n",
    "    # Create a new dictionary to store the merged result\n",
    "    merged_dict = dict1.copy()  # Start with the first dictionary\n",
    "    \n",
    "    # Iterate through the second dictionary\n",
    "    for key, value in dict2.items():\n",
    "        if key in merged_dict:\n",
    "            # If the key exists, add the values together\n",
    "            merged_dict[key] += value\n",
    "        else:\n",
    "            # If the key does not exist, add it to the merged dictionary\n",
    "            merged_dict[key] = value\n",
    "            \n",
    "    return merged_dict\n",
    "\n",
    "# Example usage\n",
    "dict1 = {'a': 1, 'b': 2, 'c': 3}\n",
    "dict2 = {'b': 3, 'c': 4, 'd': 5}\n",
    "\n",
    "# Call the function and print the result\n",
    "merged_result = merge_dictionaries(dict1, dict2)\n",
    "print(\"Merged dictionary:\", merged_result)"
   ]
  },
  {
   "cell_type": "code",
   "execution_count": 30,
   "id": "ad900ede-fefa-45e5-8743-642efd1e70d3",
   "metadata": {},
   "outputs": [
    {
     "name": "stdout",
     "output_type": "stream",
     "text": [
      "Accessed value: 42\n",
      "Accessed value with invalid keys: None\n"
     ]
    }
   ],
   "source": [
    "# Question_N0.33: Write a code to access a value in a nested dictionary. The function should take the dictionary and a list of\n",
    "#keys as input and return the corresponding value. If any of the keys do not asist in the dictionary the function should return None.\n",
    "\n",
    "\n",
    "# Answer: Here's a code that defines a function to access a value in a nested dictionary. The function takes the dictionary and a list of keys as\n",
    "#input and returns the corresponding value. If any of the keys do not exist in the dictionary, the function returns `None`:-\n",
    "def access_nested_value(nested_dict, keys):\n",
    "    # Start with the nested dictionary\n",
    "    current_value = nested_dict\n",
    "    \n",
    "    # Iterate through the list of keys\n",
    "    for key in keys:\n",
    "        # Check if the key exists in the current level of the dictionary\n",
    "        if key in current_value:\n",
    "            # Move to the next level of the dictionary\n",
    "            current_value = current_value[key]\n",
    "        else:\n",
    "            # If the key does not exist, return None\n",
    "            return None\n",
    "            \n",
    "    return current_value  # Return the final value if all keys are found\n",
    "\n",
    "# Example usage\n",
    "nested_dictionary = {\n",
    "    'a': {\n",
    "        'b': {\n",
    "            'c': 42\n",
    "        }\n",
    "    },\n",
    "    'x': {\n",
    "        'y': 100\n",
    "    }\n",
    "}\n",
    "\n",
    "# List of keys to access\n",
    "keys_to_access = ['a', 'b', 'c']\n",
    "\n",
    "# Call the function and print the result\n",
    "result = access_nested_value(nested_dictionary, keys_to_access)\n",
    "print(\"Accessed value:\", result)  # Should print 42\n",
    "\n",
    "# Test with a non-existing key\n",
    "keys_to_access_invalid = ['a', 'b', 'd']\n",
    "result_invalid = access_nested_value(nested_dictionary, keys_to_access_invalid)\n",
    "print(\"Accessed value with invalid keys:\", result_invalid)  # Should print None"
   ]
  },
  {
   "cell_type": "code",
   "execution_count": 32,
   "id": "11012a29-2c72-441f-b40d-dbab8b9289f8",
   "metadata": {},
   "outputs": [
    {
     "name": "stdout",
     "output_type": "stream",
     "text": [
      "Sorted dictionary (ascending): {'banana': 2, 'date': 3, 'apple': 5, 'cherry': 7}\n",
      "Sorted dictionary (descending): {'cherry': 7, 'apple': 5, 'date': 3, 'banana': 2}\n"
     ]
    }
   ],
   "source": [
    "# Question_N0.34: Write a code that takes a dictionary as input and returns a sorted version of it based on the values. You\n",
    "#can choose whether to sort in ascending or descending order.\n",
    "\n",
    "\n",
    "# Answer: Here's a code that takes a dictionary as input and returns a sorted version of it based on the values. You can choose whether to\n",
    "#sort in ascending or descending order by passing a parameter:-\n",
    "def sort_dictionary_by_value(input_dict, ascending=True):\n",
    "    # Sort the dictionary by its values\n",
    "    sorted_dict = dict(sorted(input_dict.items(), key=lambda item: item[1], reverse=not ascending))\n",
    "    return sorted_dict\n",
    "\n",
    "# Example usage\n",
    "input_dictionary = {\n",
    "    'apple': 5,\n",
    "    'banana': 2,\n",
    "    'cherry': 7,\n",
    "    'date': 3\n",
    "}\n",
    "\n",
    "# Sort in ascending order\n",
    "sorted_ascending = sort_dictionary_by_value(input_dictionary, ascending=True)\n",
    "print(\"Sorted dictionary (ascending):\", sorted_ascending)\n",
    "\n",
    "# Sort in descending order\n",
    "sorted_descending = sort_dictionary_by_value(input_dictionary, ascending=False)\n",
    "print(\"Sorted dictionary (descending):\", sorted_descending)"
   ]
  },
  {
   "cell_type": "code",
   "execution_count": 36,
   "id": "27f91ce6-0384-408e-9a65-39d6dd8614f2",
   "metadata": {},
   "outputs": [
    {
     "name": "stdout",
     "output_type": "stream",
     "text": [
      "Inverted dictionary: {1: ['a', 'c'], 2: ['b'], 3: ['d']}\n"
     ]
    }
   ],
   "source": [
    "# Question_N0.35: Write a code that inverts a dictionary swapping keys and values. Ensure that the inverted dictionary\n",
    "#correctly handles cases where multiple keys have the same value be storing the keys as a list in the inverted dictionary.\n",
    "\n",
    "\n",
    "# Answer: Here's a code that inverts a dictionary by swapping keys and values. It ensures that if multiple keys have the same value,\n",
    "#those keys are stored as a list in the inverted dictionary:-\n",
    "def invert_dictionary(input_dict):\n",
    "    # Create an empty dictionary to store the inverted result\n",
    "    inverted_dict = {}\n",
    "    \n",
    "    # Iterate through the original dictionary\n",
    "    for key, value in input_dict.items():\n",
    "        # If the value is already a key in the inverted dictionary\n",
    "        if value in inverted_dict:\n",
    "            # Append the key to the list of keys for that value\n",
    "            inverted_dict[value].append(key)\n",
    "        else:\n",
    "            # Create a new entry with the value as the key and the key as a list\n",
    "            inverted_dict[value] = [key]\n",
    "    \n",
    "    return inverted_dict\n",
    "\n",
    "# Example usage\n",
    "input_dictionary = {\n",
    "    'a': 1,\n",
    "    'b': 2,\n",
    "    'c': 1,\n",
    "    'd': 3\n",
    "}\n",
    "\n",
    "# Call the function and print the result\n",
    "inverted_result = invert_dictionary(input_dictionary)\n",
    "print(\"Inverted dictionary:\", inverted_result)"
   ]
  },
  {
   "cell_type": "code",
   "execution_count": null,
   "id": "14038ad5-bcb7-44a0-bce7-ec5d192eb632",
   "metadata": {},
   "outputs": [],
   "source": []
  }
 ],
 "metadata": {
  "kernelspec": {
   "display_name": "Python 3 (ipykernel)",
   "language": "python",
   "name": "python3"
  },
  "language_info": {
   "codemirror_mode": {
    "name": "ipython",
    "version": 3
   },
   "file_extension": ".py",
   "mimetype": "text/x-python",
   "name": "python",
   "nbconvert_exporter": "python",
   "pygments_lexer": "ipython3",
   "version": "3.12.4"
  }
 },
 "nbformat": 4,
 "nbformat_minor": 5
}
